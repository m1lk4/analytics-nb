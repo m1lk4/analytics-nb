{
 "cells": [
  {
   "cell_type": "code",
   "execution_count": 11,
   "metadata": {},
   "outputs": [],
   "source": [
    "import pandas as pd\n",
    "import matplotlib.pyplot as plt\n",
    "import plotly.graph_objects as go"
   ]
  },
  {
   "cell_type": "code",
   "execution_count": 12,
   "metadata": {},
   "outputs": [],
   "source": [
    "df = pd.read_csv(\"sitiosphunesco.csv\")"
   ]
  },
  {
   "cell_type": "markdown",
   "metadata": {},
   "source": [
    "# Sitios declarados Patrimonios de la Humanidad por la UNESCO"
   ]
  },
  {
   "cell_type": "code",
   "execution_count": 13,
   "metadata": {},
   "outputs": [
    {
     "data": {
      "text/html": [
       "<div>\n",
       "<style scoped>\n",
       "    .dataframe tbody tr th:only-of-type {\n",
       "        vertical-align: middle;\n",
       "    }\n",
       "\n",
       "    .dataframe tbody tr th {\n",
       "        vertical-align: top;\n",
       "    }\n",
       "\n",
       "    .dataframe thead th {\n",
       "        text-align: right;\n",
       "    }\n",
       "</style>\n",
       "<table border=\"1\" class=\"dataframe\">\n",
       "  <thead>\n",
       "    <tr style=\"text-align: right;\">\n",
       "      <th></th>\n",
       "      <th>Cod_Loc</th>\n",
       "      <th>IdRegion</th>\n",
       "      <th>IdProvincia</th>\n",
       "      <th>IdDepartamento</th>\n",
       "      <th>Observaciones</th>\n",
       "      <th>Categoría</th>\n",
       "      <th>SubCategoria</th>\n",
       "      <th>Provincia</th>\n",
       "      <th>Departamento</th>\n",
       "      <th>Localidad</th>\n",
       "      <th>...</th>\n",
       "      <th>Teléfono</th>\n",
       "      <th>Mail</th>\n",
       "      <th>Web</th>\n",
       "      <th>Latitud</th>\n",
       "      <th>Longitud</th>\n",
       "      <th>TipoLatitudLongitud</th>\n",
       "      <th>Fuente</th>\n",
       "      <th>declaracion_año</th>\n",
       "      <th>descripcion</th>\n",
       "      <th>año_actualizacion</th>\n",
       "    </tr>\n",
       "  </thead>\n",
       "  <tbody>\n",
       "    <tr>\n",
       "      <th>0</th>\n",
       "      <td>26007020</td>\n",
       "      <td>6</td>\n",
       "      <td>26</td>\n",
       "      <td>26007</td>\n",
       "      <td>Codigo en Puerto Madryn</td>\n",
       "      <td>Patrimonio de la Humanidad</td>\n",
       "      <td>NaN</td>\n",
       "      <td>Chubut</td>\n",
       "      <td>Biedma</td>\n",
       "      <td>Península Valdés</td>\n",
       "      <td>...</td>\n",
       "      <td>NaN</td>\n",
       "      <td>NaN</td>\n",
       "      <td>NaN</td>\n",
       "      <td>-42.442000</td>\n",
       "      <td>-62.638000</td>\n",
       "      <td>centroide localidad</td>\n",
       "      <td>UNESCO / SInCA</td>\n",
       "      <td>1999</td>\n",
       "      <td>Singular accidente geográfico que forma una i...</td>\n",
       "      <td>2020</td>\n",
       "    </tr>\n",
       "    <tr>\n",
       "      <th>1</th>\n",
       "      <td>14014010</td>\n",
       "      <td>2</td>\n",
       "      <td>14</td>\n",
       "      <td>14014</td>\n",
       "      <td>NaN</td>\n",
       "      <td>Patrimonio de la Humanidad</td>\n",
       "      <td>NaN</td>\n",
       "      <td>Córdoba</td>\n",
       "      <td>Capital</td>\n",
       "      <td>Córdoba</td>\n",
       "      <td>...</td>\n",
       "      <td>NaN</td>\n",
       "      <td>NaN</td>\n",
       "      <td>NaN</td>\n",
       "      <td>-31.418219</td>\n",
       "      <td>-64.187447</td>\n",
       "      <td>localización precisa</td>\n",
       "      <td>UNESCO / SInCA</td>\n",
       "      <td>2000</td>\n",
       "      <td>La Manzana Jesuítica comprende tres edificios ...</td>\n",
       "      <td>2020</td>\n",
       "    </tr>\n",
       "    <tr>\n",
       "      <th>2</th>\n",
       "      <td>14021050</td>\n",
       "      <td>2</td>\n",
       "      <td>14</td>\n",
       "      <td>14021</td>\n",
       "      <td>NaN</td>\n",
       "      <td>Patrimonio de la Humanidad</td>\n",
       "      <td>NaN</td>\n",
       "      <td>Córdoba</td>\n",
       "      <td>Colon</td>\n",
       "      <td>Colonia Caroya</td>\n",
       "      <td>...</td>\n",
       "      <td>426701</td>\n",
       "      <td>direcciondepatrimoniocultural@cba.gov.ar</td>\n",
       "      <td>NaN</td>\n",
       "      <td>-30.988106</td>\n",
       "      <td>-64.106194</td>\n",
       "      <td>localización precisa</td>\n",
       "      <td>UNESCO / SInCA</td>\n",
       "      <td>2000</td>\n",
       "      <td>Museo pluritematico y centro de interpretación...</td>\n",
       "      <td>2020</td>\n",
       "    </tr>\n",
       "    <tr>\n",
       "      <th>3</th>\n",
       "      <td>14021140</td>\n",
       "      <td>2</td>\n",
       "      <td>14</td>\n",
       "      <td>14021</td>\n",
       "      <td>NaN</td>\n",
       "      <td>Patrimonio de la Humanidad</td>\n",
       "      <td>NaN</td>\n",
       "      <td>Córdoba</td>\n",
       "      <td>Colon</td>\n",
       "      <td>Jesús María</td>\n",
       "      <td>...</td>\n",
       "      <td>420126</td>\n",
       "      <td>NaN</td>\n",
       "      <td>NaN</td>\n",
       "      <td>-30.969972</td>\n",
       "      <td>-64.097176</td>\n",
       "      <td>localización precisa</td>\n",
       "      <td>UNESCO / SInCA</td>\n",
       "      <td>2000</td>\n",
       "      <td>NaN</td>\n",
       "      <td>2020</td>\n",
       "    </tr>\n",
       "    <tr>\n",
       "      <th>4</th>\n",
       "      <td>14021020</td>\n",
       "      <td>2</td>\n",
       "      <td>14</td>\n",
       "      <td>14021</td>\n",
       "      <td>NaN</td>\n",
       "      <td>Patrimonio de la Humanidad</td>\n",
       "      <td>NaN</td>\n",
       "      <td>Córdoba</td>\n",
       "      <td>Colon</td>\n",
       "      <td>Ascochinga</td>\n",
       "      <td>...</td>\n",
       "      <td>NaN</td>\n",
       "      <td>NaN</td>\n",
       "      <td>NaN</td>\n",
       "      <td>-30.869760</td>\n",
       "      <td>-64.234052</td>\n",
       "      <td>localización precisa</td>\n",
       "      <td>UNESCO / SInCA</td>\n",
       "      <td>2000</td>\n",
       "      <td>NaN</td>\n",
       "      <td>2020</td>\n",
       "    </tr>\n",
       "  </tbody>\n",
       "</table>\n",
       "<p>5 rows × 25 columns</p>\n",
       "</div>"
      ],
      "text/plain": [
       "    Cod_Loc  IdRegion  IdProvincia  IdDepartamento            Observaciones  \\\n",
       "0  26007020         6           26           26007  Codigo en Puerto Madryn   \n",
       "1  14014010         2           14           14014                      NaN   \n",
       "2  14021050         2           14           14021                      NaN   \n",
       "3  14021140         2           14           14021                      NaN   \n",
       "4  14021020         2           14           14021                      NaN   \n",
       "\n",
       "                    Categoría  SubCategoria Provincia Departamento  \\\n",
       "0  Patrimonio de la Humanidad           NaN    Chubut       Biedma   \n",
       "1  Patrimonio de la Humanidad           NaN   Córdoba      Capital   \n",
       "2  Patrimonio de la Humanidad           NaN   Córdoba        Colon   \n",
       "3  Patrimonio de la Humanidad           NaN   Córdoba        Colon   \n",
       "4  Patrimonio de la Humanidad           NaN   Córdoba        Colon   \n",
       "\n",
       "          Localidad  ... Teléfono                                      Mail  \\\n",
       "0  Península Valdés  ...      NaN                                       NaN   \n",
       "1           Córdoba  ...      NaN                                       NaN   \n",
       "2    Colonia Caroya  ...   426701  direcciondepatrimoniocultural@cba.gov.ar   \n",
       "3       Jesús María  ...   420126                                       NaN   \n",
       "4        Ascochinga  ...      NaN                                       NaN   \n",
       "\n",
       "   Web    Latitud   Longitud   TipoLatitudLongitud          Fuente  \\\n",
       "0  NaN -42.442000 -62.638000   centroide localidad  UNESCO / SInCA   \n",
       "1  NaN -31.418219 -64.187447  localización precisa  UNESCO / SInCA   \n",
       "2  NaN -30.988106 -64.106194  localización precisa  UNESCO / SInCA   \n",
       "3  NaN -30.969972 -64.097176  localización precisa  UNESCO / SInCA   \n",
       "4  NaN -30.869760 -64.234052  localización precisa  UNESCO / SInCA   \n",
       "\n",
       "  declaracion_año                                        descripcion  \\\n",
       "0            1999  Singular accidente geográfico que forma una i...   \n",
       "1            2000  La Manzana Jesuítica comprende tres edificios ...   \n",
       "2            2000  Museo pluritematico y centro de interpretación...   \n",
       "3            2000                                                NaN   \n",
       "4            2000                                                NaN   \n",
       "\n",
       "   año_actualizacion  \n",
       "0               2020  \n",
       "1               2020  \n",
       "2               2020  \n",
       "3               2020  \n",
       "4               2020  \n",
       "\n",
       "[5 rows x 25 columns]"
      ]
     },
     "execution_count": 13,
     "metadata": {},
     "output_type": "execute_result"
    }
   ],
   "source": [
    "df.head(5)"
   ]
  },
  {
   "cell_type": "code",
   "execution_count": 14,
   "metadata": {},
   "outputs": [
    {
     "data": {
      "text/plain": [
       "Cod_Loc                  int64\n",
       "IdRegion                 int64\n",
       "IdProvincia              int64\n",
       "IdDepartamento           int64\n",
       "Observaciones           object\n",
       "Categoría               object\n",
       "SubCategoria           float64\n",
       "Provincia               object\n",
       "Departamento            object\n",
       "Localidad               object\n",
       "Nombre                  object\n",
       "Dirección               object\n",
       "Piso                   float64\n",
       "CP                     float64\n",
       "cod_area               float64\n",
       "Teléfono                object\n",
       "Mail                    object\n",
       "Web                     object\n",
       "Latitud                float64\n",
       "Longitud               float64\n",
       "TipoLatitudLongitud     object\n",
       "Fuente                  object\n",
       "declaracion_año          int64\n",
       "descripcion             object\n",
       "año_actualizacion        int64\n",
       "dtype: object"
      ]
     },
     "execution_count": 14,
     "metadata": {},
     "output_type": "execute_result"
    }
   ],
   "source": [
    "df.dtypes"
   ]
  },
  {
   "cell_type": "code",
   "execution_count": 15,
   "metadata": {},
   "outputs": [],
   "source": [
    "df1 = df[[\"Nombre\", \"Cod_Loc\", \"Provincia\", \"Departamento\", \"Localidad\", \n",
    "         \"Latitud\", \"Longitud\", \"declaracion_año\", \"descripcion\"]\n",
    "        ]"
   ]
  },
  {
   "cell_type": "code",
   "execution_count": 16,
   "metadata": {},
   "outputs": [
    {
     "data": {
      "text/html": [
       "<div>\n",
       "<style scoped>\n",
       "    .dataframe tbody tr th:only-of-type {\n",
       "        vertical-align: middle;\n",
       "    }\n",
       "\n",
       "    .dataframe tbody tr th {\n",
       "        vertical-align: top;\n",
       "    }\n",
       "\n",
       "    .dataframe thead th {\n",
       "        text-align: right;\n",
       "    }\n",
       "</style>\n",
       "<table border=\"1\" class=\"dataframe\">\n",
       "  <thead>\n",
       "    <tr style=\"text-align: right;\">\n",
       "      <th></th>\n",
       "      <th>Nombre</th>\n",
       "      <th>Cod_Loc</th>\n",
       "      <th>Provincia</th>\n",
       "      <th>Departamento</th>\n",
       "      <th>Localidad</th>\n",
       "      <th>Latitud</th>\n",
       "      <th>Longitud</th>\n",
       "      <th>declaracion_año</th>\n",
       "      <th>descripcion</th>\n",
       "    </tr>\n",
       "  </thead>\n",
       "  <tbody>\n",
       "    <tr>\n",
       "      <th>0</th>\n",
       "      <td>Península Valdés</td>\n",
       "      <td>26007020</td>\n",
       "      <td>Chubut</td>\n",
       "      <td>Biedma</td>\n",
       "      <td>Península Valdés</td>\n",
       "      <td>-42.442000</td>\n",
       "      <td>-62.638000</td>\n",
       "      <td>1999</td>\n",
       "      <td>Singular accidente geográfico que forma una i...</td>\n",
       "    </tr>\n",
       "    <tr>\n",
       "      <th>1</th>\n",
       "      <td>Manzana Jesuítica y Estancias de Córdoba</td>\n",
       "      <td>14014010</td>\n",
       "      <td>Córdoba</td>\n",
       "      <td>Capital</td>\n",
       "      <td>Córdoba</td>\n",
       "      <td>-31.418219</td>\n",
       "      <td>-64.187447</td>\n",
       "      <td>2000</td>\n",
       "      <td>La Manzana Jesuítica comprende tres edificios ...</td>\n",
       "    </tr>\n",
       "    <tr>\n",
       "      <th>2</th>\n",
       "      <td>Estancia Jesuítica de Caroya</td>\n",
       "      <td>14021050</td>\n",
       "      <td>Córdoba</td>\n",
       "      <td>Colon</td>\n",
       "      <td>Colonia Caroya</td>\n",
       "      <td>-30.988106</td>\n",
       "      <td>-64.106194</td>\n",
       "      <td>2000</td>\n",
       "      <td>Museo pluritematico y centro de interpretación...</td>\n",
       "    </tr>\n",
       "    <tr>\n",
       "      <th>3</th>\n",
       "      <td>Estancia Jesuítica Jesús María</td>\n",
       "      <td>14021140</td>\n",
       "      <td>Córdoba</td>\n",
       "      <td>Colon</td>\n",
       "      <td>Jesús María</td>\n",
       "      <td>-30.969972</td>\n",
       "      <td>-64.097176</td>\n",
       "      <td>2000</td>\n",
       "      <td>NaN</td>\n",
       "    </tr>\n",
       "    <tr>\n",
       "      <th>4</th>\n",
       "      <td>Manzana Jesuítica y Estancias de Córdoba</td>\n",
       "      <td>14021020</td>\n",
       "      <td>Córdoba</td>\n",
       "      <td>Colon</td>\n",
       "      <td>Ascochinga</td>\n",
       "      <td>-30.869760</td>\n",
       "      <td>-64.234052</td>\n",
       "      <td>2000</td>\n",
       "      <td>NaN</td>\n",
       "    </tr>\n",
       "    <tr>\n",
       "      <th>5</th>\n",
       "      <td>Manzana Jesuítica y Estancias de Córdoba</td>\n",
       "      <td>14028050</td>\n",
       "      <td>Córdoba</td>\n",
       "      <td>Cruz del Eje</td>\n",
       "      <td>Cruz del Eje</td>\n",
       "      <td>-30.724319</td>\n",
       "      <td>-64.807705</td>\n",
       "      <td>2000</td>\n",
       "      <td>Ubicado en un paraje natural de la pampa de Sa...</td>\n",
       "    </tr>\n",
       "  </tbody>\n",
       "</table>\n",
       "</div>"
      ],
      "text/plain": [
       "                                     Nombre   Cod_Loc Provincia  Departamento  \\\n",
       "0                          Península Valdés  26007020    Chubut        Biedma   \n",
       "1  Manzana Jesuítica y Estancias de Córdoba  14014010   Córdoba       Capital   \n",
       "2              Estancia Jesuítica de Caroya  14021050   Córdoba         Colon   \n",
       "3            Estancia Jesuítica Jesús María  14021140   Córdoba         Colon   \n",
       "4  Manzana Jesuítica y Estancias de Córdoba  14021020   Córdoba         Colon   \n",
       "5  Manzana Jesuítica y Estancias de Córdoba  14028050   Córdoba  Cruz del Eje   \n",
       "\n",
       "          Localidad    Latitud   Longitud  declaracion_año  \\\n",
       "0  Península Valdés -42.442000 -62.638000             1999   \n",
       "1           Córdoba -31.418219 -64.187447             2000   \n",
       "2    Colonia Caroya -30.988106 -64.106194             2000   \n",
       "3       Jesús María -30.969972 -64.097176             2000   \n",
       "4        Ascochinga -30.869760 -64.234052             2000   \n",
       "5      Cruz del Eje -30.724319 -64.807705             2000   \n",
       "\n",
       "                                         descripcion  \n",
       "0  Singular accidente geográfico que forma una i...  \n",
       "1  La Manzana Jesuítica comprende tres edificios ...  \n",
       "2  Museo pluritematico y centro de interpretación...  \n",
       "3                                                NaN  \n",
       "4                                                NaN  \n",
       "5  Ubicado en un paraje natural de la pampa de Sa...  "
      ]
     },
     "execution_count": 16,
     "metadata": {},
     "output_type": "execute_result"
    }
   ],
   "source": [
    "df1.head(6)"
   ]
  },
  {
   "cell_type": "code",
   "execution_count": 17,
   "metadata": {},
   "outputs": [],
   "source": [
    "df1_rename = df1.rename(columns=str.lower)"
   ]
  },
  {
   "cell_type": "code",
   "execution_count": 18,
   "metadata": {},
   "outputs": [
    {
     "name": "stdout",
     "output_type": "stream",
     "text": [
      "<class 'pandas.core.frame.DataFrame'>\n",
      "RangeIndex: 24 entries, 0 to 23\n",
      "Data columns (total 9 columns):\n",
      " #   Column           Non-Null Count  Dtype  \n",
      "---  ------           --------------  -----  \n",
      " 0   nombre           24 non-null     object \n",
      " 1   cod_loc          24 non-null     int64  \n",
      " 2   provincia        24 non-null     object \n",
      " 3   departamento     24 non-null     object \n",
      " 4   localidad        24 non-null     object \n",
      " 5   latitud          24 non-null     float64\n",
      " 6   longitud         24 non-null     float64\n",
      " 7   declaracion_año  24 non-null     int64  \n",
      " 8   descripcion      17 non-null     object \n",
      "dtypes: float64(2), int64(2), object(5)\n",
      "memory usage: 1.8+ KB\n"
     ]
    }
   ],
   "source": [
    "df1_rename.info()"
   ]
  },
  {
   "cell_type": "markdown",
   "metadata": {},
   "source": [
    "**Podemos ver que cuenta con 24 filas y 9 columnas (2da y 3ra línea).    \n",
    "Con la columna \"Non-Null Count\" podemos saber cuántos valores nulos hay en cada columna. Ej. En la columna \"descripción\" hay 7 valores nulos (24 - 17).  \n",
    "La última columna nos dice de qué tipo son los valores de las columnas.**"
   ]
  },
  {
   "cell_type": "markdown",
   "metadata": {},
   "source": [
    "### Preguntas sobre el dataset:\n",
    "1. ¿En qué provincias se encuentan los sitios? ¿Qué provincias tienen más sitios?\n",
    "2. ¿En qué localidades de la provincia con más sitios se encuentran los sitios?\n",
    "3. ¿En qué años se declararon como patrimonio de la humanidad? ¿Cuáles se declaron primeros y cuáles últimos? "
   ]
  },
  {
   "cell_type": "markdown",
   "metadata": {},
   "source": [
    "## 1. ¿En qué provincias se encuentan los sitios? ¿Qué provincias tienen más sitios?\n",
    "Primero ordenaremos nuestro dataset.  \n",
    "- Agrupamos los sitios por provincia, obteniendo cantidad de sitios en cada provincia.  \n",
    "- Ordenamos por mayor a menor cantidad"
   ]
  },
  {
   "cell_type": "code",
   "execution_count": 19,
   "metadata": {},
   "outputs": [],
   "source": [
    "df_provincia = df1_rename.groupby(\"provincia\")[\"nombre\"].count().sort_values(ascending=False)"
   ]
  },
  {
   "cell_type": "code",
   "execution_count": 20,
   "metadata": {},
   "outputs": [
    {
     "data": {
      "text/plain": [
       "provincia\n",
       "Córdoba         6\n",
       "Misiones        6\n",
       "Salta           4\n",
       "Chubut          2\n",
       "Santa Cruz      2\n",
       "Buenos Aires    1\n",
       "Jujuy           1\n",
       "La Rioja        1\n",
       "San Juan        1\n",
       "Name: nombre, dtype: int64"
      ]
     },
     "execution_count": 20,
     "metadata": {},
     "output_type": "execute_result"
    }
   ],
   "source": [
    "df_provincia.head(10)"
   ]
  },
  {
   "cell_type": "code",
   "execution_count": 21,
   "metadata": {},
   "outputs": [
    {
     "data": {
      "text/plain": [
       "<AxesSubplot:ylabel='nombre'>"
      ]
     },
     "execution_count": 21,
     "metadata": {},
     "output_type": "execute_result"
    },
    {
     "data": {
      "image/png": "[encoded data removed]",
      "text/plain": [
       "<Figure size 432x288 with 1 Axes>"
      ]
     },
     "metadata": {},
     "output_type": "display_data"
    }
   ],
   "source": [
    "df_provincia.plot(kind=\"pie\", colormap=\"tab10\")      # https://matplotlib.org/3.5.0/tutorials/colors/colormaps.html"
   ]
  },
  {
   "cell_type": "markdown",
   "metadata": {},
   "source": [
    "**Podemos observar que las provincias con más sitios declarados patrimonio de la humanidad son: Córdoba(6), Misiones(6) y Salta(4). El resto tiene menos de 3 sitios.**"
   ]
  },
  {
   "cell_type": "markdown",
   "metadata": {},
   "source": [
    "## 2. ¿En qué localidades de Misiones y Córdoba se encuentran los sitios?\n",
    "Primeros prepararemos el dataset  \n",
    "- De la columna \"provincia\" usaremos los datos de Misiones únicamente.  \n",
    "- Utilizaremos la columna \"localidad\" para saber cuáles son las localidades y si se repiten"
   ]
  },
  {
   "cell_type": "code",
   "execution_count": 22,
   "metadata": {},
   "outputs": [
    {
     "data": {
      "text/html": [
       "<div>\n",
       "<style scoped>\n",
       "    .dataframe tbody tr th:only-of-type {\n",
       "        vertical-align: middle;\n",
       "    }\n",
       "\n",
       "    .dataframe tbody tr th {\n",
       "        vertical-align: top;\n",
       "    }\n",
       "\n",
       "    .dataframe thead th {\n",
       "        text-align: right;\n",
       "    }\n",
       "</style>\n",
       "<table border=\"1\" class=\"dataframe\">\n",
       "  <thead>\n",
       "    <tr style=\"text-align: right;\">\n",
       "      <th></th>\n",
       "      <th>localidad</th>\n",
       "      <th>nombre</th>\n",
       "    </tr>\n",
       "  </thead>\n",
       "  <tbody>\n",
       "    <tr>\n",
       "      <th>9</th>\n",
       "      <td>Candelaria</td>\n",
       "      <td>Misiones Jesuíticas de Los Guaraníes</td>\n",
       "    </tr>\n",
       "    <tr>\n",
       "      <th>10</th>\n",
       "      <td>Loreto</td>\n",
       "      <td>Misiones Jesuíticas de Los Guaraníes</td>\n",
       "    </tr>\n",
       "    <tr>\n",
       "      <th>11</th>\n",
       "      <td>Santa Ana</td>\n",
       "      <td>Misiones Jesuíticas de Los Guaraníes</td>\n",
       "    </tr>\n",
       "    <tr>\n",
       "      <th>12</th>\n",
       "      <td>Puerto Iguazú</td>\n",
       "      <td>Parque Nacional Iguazú</td>\n",
       "    </tr>\n",
       "    <tr>\n",
       "      <th>13</th>\n",
       "      <td>San Ignacio</td>\n",
       "      <td>Misiones Jesuíticas de Los Guaraníes</td>\n",
       "    </tr>\n",
       "    <tr>\n",
       "      <th>14</th>\n",
       "      <td>Itacaruare</td>\n",
       "      <td>Misiones Jesuíticas de Los Guaraníes</td>\n",
       "    </tr>\n",
       "  </tbody>\n",
       "</table>\n",
       "</div>"
      ],
      "text/plain": [
       "        localidad                                nombre\n",
       "9      Candelaria  Misiones Jesuíticas de Los Guaraníes\n",
       "10         Loreto  Misiones Jesuíticas de Los Guaraníes\n",
       "11      Santa Ana  Misiones Jesuíticas de Los Guaraníes\n",
       "12  Puerto Iguazú                Parque Nacional Iguazú\n",
       "13    San Ignacio  Misiones Jesuíticas de Los Guaraníes\n",
       "14     Itacaruare  Misiones Jesuíticas de Los Guaraníes"
      ]
     },
     "execution_count": 22,
     "metadata": {},
     "output_type": "execute_result"
    }
   ],
   "source": [
    "df1_rename.loc[df1_rename[\"provincia\"] == \"Misiones\", [\"localidad\", \"nombre\"]]"
   ]
  },
  {
   "cell_type": "code",
   "execution_count": 23,
   "metadata": {},
   "outputs": [
    {
     "data": {
      "text/html": [
       "<div>\n",
       "<style scoped>\n",
       "    .dataframe tbody tr th:only-of-type {\n",
       "        vertical-align: middle;\n",
       "    }\n",
       "\n",
       "    .dataframe tbody tr th {\n",
       "        vertical-align: top;\n",
       "    }\n",
       "\n",
       "    .dataframe thead th {\n",
       "        text-align: right;\n",
       "    }\n",
       "</style>\n",
       "<table border=\"1\" class=\"dataframe\">\n",
       "  <thead>\n",
       "    <tr style=\"text-align: right;\">\n",
       "      <th></th>\n",
       "      <th>localidad</th>\n",
       "      <th>nombre</th>\n",
       "    </tr>\n",
       "  </thead>\n",
       "  <tbody>\n",
       "    <tr>\n",
       "      <th>1</th>\n",
       "      <td>Córdoba</td>\n",
       "      <td>Manzana Jesuítica y Estancias de Córdoba</td>\n",
       "    </tr>\n",
       "    <tr>\n",
       "      <th>2</th>\n",
       "      <td>Colonia Caroya</td>\n",
       "      <td>Estancia Jesuítica de Caroya</td>\n",
       "    </tr>\n",
       "    <tr>\n",
       "      <th>3</th>\n",
       "      <td>Jesús María</td>\n",
       "      <td>Estancia Jesuítica Jesús María</td>\n",
       "    </tr>\n",
       "    <tr>\n",
       "      <th>4</th>\n",
       "      <td>Ascochinga</td>\n",
       "      <td>Manzana Jesuítica y Estancias de Córdoba</td>\n",
       "    </tr>\n",
       "    <tr>\n",
       "      <th>5</th>\n",
       "      <td>Cruz del Eje</td>\n",
       "      <td>Manzana Jesuítica y Estancias de Córdoba</td>\n",
       "    </tr>\n",
       "    <tr>\n",
       "      <th>6</th>\n",
       "      <td>Alta Gracia</td>\n",
       "      <td>Manzana Jesuítica y Estancias de Córdoba</td>\n",
       "    </tr>\n",
       "  </tbody>\n",
       "</table>\n",
       "</div>"
      ],
      "text/plain": [
       "        localidad                                    nombre\n",
       "1         Córdoba  Manzana Jesuítica y Estancias de Córdoba\n",
       "2  Colonia Caroya              Estancia Jesuítica de Caroya\n",
       "3     Jesús María            Estancia Jesuítica Jesús María\n",
       "4      Ascochinga  Manzana Jesuítica y Estancias de Córdoba\n",
       "5    Cruz del Eje  Manzana Jesuítica y Estancias de Córdoba\n",
       "6     Alta Gracia  Manzana Jesuítica y Estancias de Córdoba"
      ]
     },
     "execution_count": 23,
     "metadata": {},
     "output_type": "execute_result"
    }
   ],
   "source": [
    "df1_rename.loc[df1_rename[\"provincia\"] == \"Córdoba\", [\"localidad\", \"nombre\"]]"
   ]
  },
  {
   "cell_type": "markdown",
   "metadata": {},
   "source": [
    "<span style=\"font-size:15px\"><span style=\"color:brown\">\n",
    "Podemos observar que solo existe 1 sitio por localidad, tanto en Córdoba como en Misiones y que la mayoría de los sitios tienen que ver con las misiones jesuíticas.</span></span>"
   ]
  },
  {
   "cell_type": "markdown",
   "metadata": {},
   "source": [
    "## 3. ¿En qué años se declararon como patrimonio de la humanidad? ¿Cuáles se declaron primero y cuáles en último lugar?\n",
    "- Primero veremos la cantidad de sitios declarados según el año.  \n",
    "- Luego cuáles son los más recientemente declarados y también los que se declararon primero."
   ]
  },
  {
   "cell_type": "code",
   "execution_count": 24,
   "metadata": {},
   "outputs": [
    {
     "data": {
      "text/plain": [
       "declaracion_año\n",
       "1981    1\n",
       "1984    4\n",
       "1985    2\n",
       "1999    2\n",
       "2000    9\n",
       "2014    4\n",
       "2016    1\n",
       "2017    1\n",
       "Name: nombre, dtype: int64"
      ]
     },
     "execution_count": 24,
     "metadata": {},
     "output_type": "execute_result"
    }
   ],
   "source": [
    "df1_rename.groupby(\"declaracion_año\")[\"nombre\"].count()"
   ]
  },
  {
   "cell_type": "code",
   "execution_count": 25,
   "metadata": {},
   "outputs": [],
   "source": [
    "df_anio = df1_rename.groupby(\"declaracion_año\")[\"nombre\"].count().sort_values(ascending=False) #Guardamos en variable \n",
    "                                                                                               # y ordenamos"
   ]
  },
  {
   "cell_type": "code",
   "execution_count": 26,
   "metadata": {},
   "outputs": [
    {
     "data": {
      "text/plain": [
       "<AxesSubplot:ylabel='nombre'>"
      ]
     },
     "execution_count": 26,
     "metadata": {},
     "output_type": "execute_result"
    },
    {
     "data": {
      "image/png": "[encoded data removed]",
      "text/plain": [
       "<Figure size 432x288 with 1 Axes>"
      ]
     },
     "metadata": {},
     "output_type": "display_data"
    }
   ],
   "source": [
    "df_anio.plot(kind=\"pie\")"
   ]
  },
  {
   "cell_type": "markdown",
   "metadata": {},
   "source": [
    "**Podemos ver que las declaraciones se realizaron entre 1981 y el 2017. Pero los años en que más declaraciones se hicieron fueron en el 2000, 1984 y 2014.**"
   ]
  },
  {
   "cell_type": "code",
   "execution_count": 27,
   "metadata": {},
   "outputs": [
    {
     "data": {
      "text/html": [
       "<div>\n",
       "<style scoped>\n",
       "    .dataframe tbody tr th:only-of-type {\n",
       "        vertical-align: middle;\n",
       "    }\n",
       "\n",
       "    .dataframe tbody tr th {\n",
       "        vertical-align: top;\n",
       "    }\n",
       "\n",
       "    .dataframe thead th {\n",
       "        text-align: right;\n",
       "    }\n",
       "</style>\n",
       "<table border=\"1\" class=\"dataframe\">\n",
       "  <thead>\n",
       "    <tr style=\"text-align: right;\">\n",
       "      <th></th>\n",
       "      <th>nombre</th>\n",
       "      <th>declaracion_año</th>\n",
       "      <th>provincia</th>\n",
       "    </tr>\n",
       "  </thead>\n",
       "  <tbody>\n",
       "    <tr>\n",
       "      <th>21</th>\n",
       "      <td>Los Glaciares. Parque Nacional Los Glaciaries</td>\n",
       "      <td>1981</td>\n",
       "      <td>Santa Cruz</td>\n",
       "    </tr>\n",
       "    <tr>\n",
       "      <th>23</th>\n",
       "      <td>Parque Nacional Los Alerces</td>\n",
       "      <td>2017</td>\n",
       "      <td>Chubut</td>\n",
       "    </tr>\n",
       "  </tbody>\n",
       "</table>\n",
       "</div>"
      ],
      "text/plain": [
       "                                           nombre  declaracion_año   provincia\n",
       "21  Los Glaciares. Parque Nacional Los Glaciaries             1981  Santa Cruz\n",
       "23                    Parque Nacional Los Alerces             2017      Chubut"
      ]
     },
     "execution_count": 27,
     "metadata": {},
     "output_type": "execute_result"
    }
   ],
   "source": [
    "df1_rename.loc[\n",
    "    (df1_rename[\"declaracion_año\"] == 1981) | (df1_rename[\"declaracion_año\"] == 2017),\n",
    "    [\"nombre\", \"declaracion_año\", \"provincia\"]\n",
    "]"
   ]
  },
  {
   "cell_type": "markdown",
   "metadata": {},
   "source": [
    "**Podemos ver que el primer sitio declarado es el Parque Nacional Los Glaciares de la provincia de Santa Cruz, en 1981.  \n",
    "El último declarado es el Parque Nacional Los Alerces de Chubut, en 2017.**"
   ]
  },
  {
   "cell_type": "markdown",
   "metadata": {},
   "source": [
    "# Mapas"
   ]
  },
  {
   "cell_type": "code",
   "execution_count": 92,
   "metadata": {},
   "outputs": [
    {
     "data": {
      "text/html": [
       "<div>\n",
       "<style scoped>\n",
       "    .dataframe tbody tr th:only-of-type {\n",
       "        vertical-align: middle;\n",
       "    }\n",
       "\n",
       "    .dataframe tbody tr th {\n",
       "        vertical-align: top;\n",
       "    }\n",
       "\n",
       "    .dataframe thead th {\n",
       "        text-align: right;\n",
       "    }\n",
       "</style>\n",
       "<table border=\"1\" class=\"dataframe\">\n",
       "  <thead>\n",
       "    <tr style=\"text-align: right;\">\n",
       "      <th></th>\n",
       "      <th>latitud</th>\n",
       "      <th>longitud</th>\n",
       "    </tr>\n",
       "  </thead>\n",
       "  <tbody>\n",
       "    <tr>\n",
       "      <th>count</th>\n",
       "      <td>24.000000</td>\n",
       "      <td>24.000000</td>\n",
       "    </tr>\n",
       "    <tr>\n",
       "      <th>mean</th>\n",
       "      <td>-31.243139</td>\n",
       "      <td>-63.374994</td>\n",
       "    </tr>\n",
       "    <tr>\n",
       "      <th>std</th>\n",
       "      <td>7.320253</td>\n",
       "      <td>5.576486</td>\n",
       "    </tr>\n",
       "    <tr>\n",
       "      <th>min</th>\n",
       "      <td>-50.339205</td>\n",
       "      <td>-72.261967</td>\n",
       "    </tr>\n",
       "    <tr>\n",
       "      <th>25%</th>\n",
       "      <td>-31.477302</td>\n",
       "      <td>-66.528392</td>\n",
       "    </tr>\n",
       "    <tr>\n",
       "      <th>50%</th>\n",
       "      <td>-30.244428</td>\n",
       "      <td>-64.332328</td>\n",
       "    </tr>\n",
       "    <tr>\n",
       "      <th>75%</th>\n",
       "      <td>-26.845813</td>\n",
       "      <td>-57.392126</td>\n",
       "    </tr>\n",
       "    <tr>\n",
       "      <th>max</th>\n",
       "      <td>-23.205505</td>\n",
       "      <td>-54.576727</td>\n",
       "    </tr>\n",
       "  </tbody>\n",
       "</table>\n",
       "</div>"
      ],
      "text/plain": [
       "         latitud   longitud\n",
       "count  24.000000  24.000000\n",
       "mean  -31.243139 -63.374994\n",
       "std     7.320253   5.576486\n",
       "min   -50.339205 -72.261967\n",
       "25%   -31.477302 -66.528392\n",
       "50%   -30.244428 -64.332328\n",
       "75%   -26.845813 -57.392126\n",
       "max   -23.205505 -54.576727"
      ]
     },
     "execution_count": 92,
     "metadata": {},
     "output_type": "execute_result"
    }
   ],
   "source": [
    "df1_rename[[\"latitud\", \"longitud\"]].describe()"
   ]
  },
  {
   "cell_type": "code",
   "execution_count": 100,
   "metadata": {},
   "outputs": [],
   "source": [
    "fig = go.Figure()"
   ]
  },
  {
   "cell_type": "code",
   "execution_count": 102,
   "metadata": {},
   "outputs": [],
   "source": [
    "for i in df1_rename:\n",
    "    fig.add_trace(go.Scattergeo(\n",
    "            lon = df1_rename['longitud'],\n",
    "            lat = df1_rename['latitud'],\n",
    "            text = df1_rename['nombre'],\n",
    "    )       )"
   ]
  },
  {
   "cell_type": "code",
   "execution_count": 103,
   "metadata": {},
   "outputs": [
    {
     "data": {
      "application/vnd.plotly.v1+json": {
       "config": {
        "plotlyServerURL": "https://plot.ly"
       },
       "data": [
        {
         "lat": [
          -42.442,
          -31.418219,
          -30.9881056,
          -30.969972,
          -30.86976,
          -30.7243188,
          -31.654552,
          -23.2055048,
          -29.8501731,
          -27.4616943,
          -27.3321304,
          -27.369649,
          -25.603608,
          -27.2598819,
          -27.868103,
          -25.0543194,
          -24.7209356,
          -24.7166691,
          -24.43333,
          -30.638682,
          -47.1502679,
          -50.3392052,
          -34.9113819,
          -42.852881
         ],
         "lon": [
          -62.638,
          -64.187447,
          -64.1061944,
          -64.097176,
          -64.234052,
          -64.8077052,
          -64.430603,
          -65.3523164,
          -67.9064941,
          -55.7430523,
          -55.52278,
          -55.5805271,
          -54.5767266,
          -55.5397095,
          -55.2638328,
          -66.1047363,
          -68.5352075,
          -66.2166672,
          -65.95,
          -67.4635683,
          -70.6666374,
          -72.261967,
          -57.9418171,
          -71.872631
         ],
         "text": [
          "Península Valdés",
          "Manzana Jesuítica y Estancias de Córdoba",
          "Estancia Jesuítica de Caroya",
          "Estancia Jesuítica Jesús María",
          "Manzana Jesuítica y Estancias de Córdoba",
          "Manzana Jesuítica y Estancias de Córdoba",
          "Manzana Jesuítica y Estancias de Córdoba",
          "Quebrada de Humahuaca",
          "Parque Nacional Talampaya",
          "Misiones Jesuíticas de Los Guaraníes",
          "Misiones Jesuíticas de Los Guaraníes",
          "Misiones Jesuíticas de Los Guaraníes",
          "Parque Nacional Iguazú",
          "Misiones Jesuíticas de Los Guaraníes",
          "Misiones Jesuíticas de Los Guaraníes",
          "Potrero de Payogasta - Qhapaq Ñan",
          "Complejo Ceremonial Volcán Llullaillaco - Qhapaq Ñan",
          "Graneros de La Poma - Qhapaq Ñan",
          "Santa Rosa de Tastil - Qhapaq Ñan ",
          "Parque Nacional Ischigualasto",
          "Cueva de las Manos",
          "Los Glaciares. Parque Nacional Los Glaciaries",
          "La Casa Curutchet",
          "Parque Nacional Los Alerces"
         ],
         "type": "scattergeo"
        },
        {
         "lat": [
          -42.442,
          -31.418219,
          -30.9881056,
          -30.969972,
          -30.86976,
          -30.7243188,
          -31.654552,
          -23.2055048,
          -29.8501731,
          -27.4616943,
          -27.3321304,
          -27.369649,
          -25.603608,
          -27.2598819,
          -27.868103,
          -25.0543194,
          -24.7209356,
          -24.7166691,
          -24.43333,
          -30.638682,
          -47.1502679,
          -50.3392052,
          -34.9113819,
          -42.852881
         ],
         "lon": [
          -62.638,
          -64.187447,
          -64.1061944,
          -64.097176,
          -64.234052,
          -64.8077052,
          -64.430603,
          -65.3523164,
          -67.9064941,
          -55.7430523,
          -55.52278,
          -55.5805271,
          -54.5767266,
          -55.5397095,
          -55.2638328,
          -66.1047363,
          -68.5352075,
          -66.2166672,
          -65.95,
          -67.4635683,
          -70.6666374,
          -72.261967,
          -57.9418171,
          -71.872631
         ],
         "text": [
          "Península Valdés",
          "Manzana Jesuítica y Estancias de Córdoba",
          "Estancia Jesuítica de Caroya",
          "Estancia Jesuítica Jesús María",
          "Manzana Jesuítica y Estancias de Córdoba",
          "Manzana Jesuítica y Estancias de Córdoba",
          "Manzana Jesuítica y Estancias de Córdoba",
          "Quebrada de Humahuaca",
          "Parque Nacional Talampaya",
          "Misiones Jesuíticas de Los Guaraníes",
          "Misiones Jesuíticas de Los Guaraníes",
          "Misiones Jesuíticas de Los Guaraníes",
          "Parque Nacional Iguazú",
          "Misiones Jesuíticas de Los Guaraníes",
          "Misiones Jesuíticas de Los Guaraníes",
          "Potrero de Payogasta - Qhapaq Ñan",
          "Complejo Ceremonial Volcán Llullaillaco - Qhapaq Ñan",
          "Graneros de La Poma - Qhapaq Ñan",
          "Santa Rosa de Tastil - Qhapaq Ñan ",
          "Parque Nacional Ischigualasto",
          "Cueva de las Manos",
          "Los Glaciares. Parque Nacional Los Glaciaries",
          "La Casa Curutchet",
          "Parque Nacional Los Alerces"
         ],
         "type": "scattergeo"
        },
        {
         "lat": [
          -42.442,
          -31.418219,
          -30.9881056,
          -30.969972,
          -30.86976,
          -30.7243188,
          -31.654552,
          -23.2055048,
          -29.8501731,
          -27.4616943,
          -27.3321304,
          -27.369649,
          -25.603608,
          -27.2598819,
          -27.868103,
          -25.0543194,
          -24.7209356,
          -24.7166691,
          -24.43333,
          -30.638682,
          -47.1502679,
          -50.3392052,
          -34.9113819,
          -42.852881
         ],
         "lon": [
          -62.638,
          -64.187447,
          -64.1061944,
          -64.097176,
          -64.234052,
          -64.8077052,
          -64.430603,
          -65.3523164,
          -67.9064941,
          -55.7430523,
          -55.52278,
          -55.5805271,
          -54.5767266,
          -55.5397095,
          -55.2638328,
          -66.1047363,
          -68.5352075,
          -66.2166672,
          -65.95,
          -67.4635683,
          -70.6666374,
          -72.261967,
          -57.9418171,
          -71.872631
         ],
         "text": [
          "Península Valdés",
          "Manzana Jesuítica y Estancias de Córdoba",
          "Estancia Jesuítica de Caroya",
          "Estancia Jesuítica Jesús María",
          "Manzana Jesuítica y Estancias de Córdoba",
          "Manzana Jesuítica y Estancias de Córdoba",
          "Manzana Jesuítica y Estancias de Córdoba",
          "Quebrada de Humahuaca",
          "Parque Nacional Talampaya",
          "Misiones Jesuíticas de Los Guaraníes",
          "Misiones Jesuíticas de Los Guaraníes",
          "Misiones Jesuíticas de Los Guaraníes",
          "Parque Nacional Iguazú",
          "Misiones Jesuíticas de Los Guaraníes",
          "Misiones Jesuíticas de Los Guaraníes",
          "Potrero de Payogasta - Qhapaq Ñan",
          "Complejo Ceremonial Volcán Llullaillaco - Qhapaq Ñan",
          "Graneros de La Poma - Qhapaq Ñan",
          "Santa Rosa de Tastil - Qhapaq Ñan ",
          "Parque Nacional Ischigualasto",
          "Cueva de las Manos",
          "Los Glaciares. Parque Nacional Los Glaciaries",
          "La Casa Curutchet",
          "Parque Nacional Los Alerces"
         ],
         "type": "scattergeo"
        },
        {
         "lat": [
          -42.442,
          -31.418219,
          -30.9881056,
          -30.969972,
          -30.86976,
          -30.7243188,
          -31.654552,
          -23.2055048,
          -29.8501731,
          -27.4616943,
          -27.3321304,
          -27.369649,
          -25.603608,
          -27.2598819,
          -27.868103,
          -25.0543194,
          -24.7209356,
          -24.7166691,
          -24.43333,
          -30.638682,
          -47.1502679,
          -50.3392052,
          -34.9113819,
          -42.852881
         ],
         "lon": [
          -62.638,
          -64.187447,
          -64.1061944,
          -64.097176,
          -64.234052,
          -64.8077052,
          -64.430603,
          -65.3523164,
          -67.9064941,
          -55.7430523,
          -55.52278,
          -55.5805271,
          -54.5767266,
          -55.5397095,
          -55.2638328,
          -66.1047363,
          -68.5352075,
          -66.2166672,
          -65.95,
          -67.4635683,
          -70.6666374,
          -72.261967,
          -57.9418171,
          -71.872631
         ],
         "text": [
          "Península Valdés",
          "Manzana Jesuítica y Estancias de Córdoba",
          "Estancia Jesuítica de Caroya",
          "Estancia Jesuítica Jesús María",
          "Manzana Jesuítica y Estancias de Córdoba",
          "Manzana Jesuítica y Estancias de Córdoba",
          "Manzana Jesuítica y Estancias de Córdoba",
          "Quebrada de Humahuaca",
          "Parque Nacional Talampaya",
          "Misiones Jesuíticas de Los Guaraníes",
          "Misiones Jesuíticas de Los Guaraníes",
          "Misiones Jesuíticas de Los Guaraníes",
          "Parque Nacional Iguazú",
          "Misiones Jesuíticas de Los Guaraníes",
          "Misiones Jesuíticas de Los Guaraníes",
          "Potrero de Payogasta - Qhapaq Ñan",
          "Complejo Ceremonial Volcán Llullaillaco - Qhapaq Ñan",
          "Graneros de La Poma - Qhapaq Ñan",
          "Santa Rosa de Tastil - Qhapaq Ñan ",
          "Parque Nacional Ischigualasto",
          "Cueva de las Manos",
          "Los Glaciares. Parque Nacional Los Glaciaries",
          "La Casa Curutchet",
          "Parque Nacional Los Alerces"
         ],
         "type": "scattergeo"
        },
        {
         "lat": [
          -42.442,
          -31.418219,
          -30.9881056,
          -30.969972,
          -30.86976,
          -30.7243188,
          -31.654552,
          -23.2055048,
          -29.8501731,
          -27.4616943,
          -27.3321304,
          -27.369649,
          -25.603608,
          -27.2598819,
          -27.868103,
          -25.0543194,
          -24.7209356,
          -24.7166691,
          -24.43333,
          -30.638682,
          -47.1502679,
          -50.3392052,
          -34.9113819,
          -42.852881
         ],
         "lon": [
          -62.638,
          -64.187447,
          -64.1061944,
          -64.097176,
          -64.234052,
          -64.8077052,
          -64.430603,
          -65.3523164,
          -67.9064941,
          -55.7430523,
          -55.52278,
          -55.5805271,
          -54.5767266,
          -55.5397095,
          -55.2638328,
          -66.1047363,
          -68.5352075,
          -66.2166672,
          -65.95,
          -67.4635683,
          -70.6666374,
          -72.261967,
          -57.9418171,
          -71.872631
         ],
         "text": [
          "Península Valdés",
          "Manzana Jesuítica y Estancias de Córdoba",
          "Estancia Jesuítica de Caroya",
          "Estancia Jesuítica Jesús María",
          "Manzana Jesuítica y Estancias de Córdoba",
          "Manzana Jesuítica y Estancias de Córdoba",
          "Manzana Jesuítica y Estancias de Córdoba",
          "Quebrada de Humahuaca",
          "Parque Nacional Talampaya",
          "Misiones Jesuíticas de Los Guaraníes",
          "Misiones Jesuíticas de Los Guaraníes",
          "Misiones Jesuíticas de Los Guaraníes",
          "Parque Nacional Iguazú",
          "Misiones Jesuíticas de Los Guaraníes",
          "Misiones Jesuíticas de Los Guaraníes",
          "Potrero de Payogasta - Qhapaq Ñan",
          "Complejo Ceremonial Volcán Llullaillaco - Qhapaq Ñan",
          "Graneros de La Poma - Qhapaq Ñan",
          "Santa Rosa de Tastil - Qhapaq Ñan ",
          "Parque Nacional Ischigualasto",
          "Cueva de las Manos",
          "Los Glaciares. Parque Nacional Los Glaciaries",
          "La Casa Curutchet",
          "Parque Nacional Los Alerces"
         ],
         "type": "scattergeo"
        },
        {
         "lat": [
          -42.442,
          -31.418219,
          -30.9881056,
          -30.969972,
          -30.86976,
          -30.7243188,
          -31.654552,
          -23.2055048,
          -29.8501731,
          -27.4616943,
          -27.3321304,
          -27.369649,
          -25.603608,
          -27.2598819,
          -27.868103,
          -25.0543194,
          -24.7209356,
          -24.7166691,
          -24.43333,
          -30.638682,
          -47.1502679,
          -50.3392052,
          -34.9113819,
          -42.852881
         ],
         "lon": [
          -62.638,
          -64.187447,
          -64.1061944,
          -64.097176,
          -64.234052,
          -64.8077052,
          -64.430603,
          -65.3523164,
          -67.9064941,
          -55.7430523,
          -55.52278,
          -55.5805271,
          -54.5767266,
          -55.5397095,
          -55.2638328,
          -66.1047363,
          -68.5352075,
          -66.2166672,
          -65.95,
          -67.4635683,
          -70.6666374,
          -72.261967,
          -57.9418171,
          -71.872631
         ],
         "text": [
          "Península Valdés",
          "Manzana Jesuítica y Estancias de Córdoba",
          "Estancia Jesuítica de Caroya",
          "Estancia Jesuítica Jesús María",
          "Manzana Jesuítica y Estancias de Córdoba",
          "Manzana Jesuítica y Estancias de Córdoba",
          "Manzana Jesuítica y Estancias de Córdoba",
          "Quebrada de Humahuaca",
          "Parque Nacional Talampaya",
          "Misiones Jesuíticas de Los Guaraníes",
          "Misiones Jesuíticas de Los Guaraníes",
          "Misiones Jesuíticas de Los Guaraníes",
          "Parque Nacional Iguazú",
          "Misiones Jesuíticas de Los Guaraníes",
          "Misiones Jesuíticas de Los Guaraníes",
          "Potrero de Payogasta - Qhapaq Ñan",
          "Complejo Ceremonial Volcán Llullaillaco - Qhapaq Ñan",
          "Graneros de La Poma - Qhapaq Ñan",
          "Santa Rosa de Tastil - Qhapaq Ñan ",
          "Parque Nacional Ischigualasto",
          "Cueva de las Manos",
          "Los Glaciares. Parque Nacional Los Glaciaries",
          "La Casa Curutchet",
          "Parque Nacional Los Alerces"
         ],
         "type": "scattergeo"
        },
        {
         "lat": [
          -42.442,
          -31.418219,
          -30.9881056,
          -30.969972,
          -30.86976,
          -30.7243188,
          -31.654552,
          -23.2055048,
          -29.8501731,
          -27.4616943,
          -27.3321304,
          -27.369649,
          -25.603608,
          -27.2598819,
          -27.868103,
          -25.0543194,
          -24.7209356,
          -24.7166691,
          -24.43333,
          -30.638682,
          -47.1502679,
          -50.3392052,
          -34.9113819,
          -42.852881
         ],
         "lon": [
          -62.638,
          -64.187447,
          -64.1061944,
          -64.097176,
          -64.234052,
          -64.8077052,
          -64.430603,
          -65.3523164,
          -67.9064941,
          -55.7430523,
          -55.52278,
          -55.5805271,
          -54.5767266,
          -55.5397095,
          -55.2638328,
          -66.1047363,
          -68.5352075,
          -66.2166672,
          -65.95,
          -67.4635683,
          -70.6666374,
          -72.261967,
          -57.9418171,
          -71.872631
         ],
         "text": [
          "Península Valdés",
          "Manzana Jesuítica y Estancias de Córdoba",
          "Estancia Jesuítica de Caroya",
          "Estancia Jesuítica Jesús María",
          "Manzana Jesuítica y Estancias de Córdoba",
          "Manzana Jesuítica y Estancias de Córdoba",
          "Manzana Jesuítica y Estancias de Córdoba",
          "Quebrada de Humahuaca",
          "Parque Nacional Talampaya",
          "Misiones Jesuíticas de Los Guaraníes",
          "Misiones Jesuíticas de Los Guaraníes",
          "Misiones Jesuíticas de Los Guaraníes",
          "Parque Nacional Iguazú",
          "Misiones Jesuíticas de Los Guaraníes",
          "Misiones Jesuíticas de Los Guaraníes",
          "Potrero de Payogasta - Qhapaq Ñan",
          "Complejo Ceremonial Volcán Llullaillaco - Qhapaq Ñan",
          "Graneros de La Poma - Qhapaq Ñan",
          "Santa Rosa de Tastil - Qhapaq Ñan ",
          "Parque Nacional Ischigualasto",
          "Cueva de las Manos",
          "Los Glaciares. Parque Nacional Los Glaciaries",
          "La Casa Curutchet",
          "Parque Nacional Los Alerces"
         ],
         "type": "scattergeo"
        },
        {
         "lat": [
          -42.442,
          -31.418219,
          -30.9881056,
          -30.969972,
          -30.86976,
          -30.7243188,
          -31.654552,
          -23.2055048,
          -29.8501731,
          -27.4616943,
          -27.3321304,
          -27.369649,
          -25.603608,
          -27.2598819,
          -27.868103,
          -25.0543194,
          -24.7209356,
          -24.7166691,
          -24.43333,
          -30.638682,
          -47.1502679,
          -50.3392052,
          -34.9113819,
          -42.852881
         ],
         "lon": [
          -62.638,
          -64.187447,
          -64.1061944,
          -64.097176,
          -64.234052,
          -64.8077052,
          -64.430603,
          -65.3523164,
          -67.9064941,
          -55.7430523,
          -55.52278,
          -55.5805271,
          -54.5767266,
          -55.5397095,
          -55.2638328,
          -66.1047363,
          -68.5352075,
          -66.2166672,
          -65.95,
          -67.4635683,
          -70.6666374,
          -72.261967,
          -57.9418171,
          -71.872631
         ],
         "text": [
          "Península Valdés",
          "Manzana Jesuítica y Estancias de Córdoba",
          "Estancia Jesuítica de Caroya",
          "Estancia Jesuítica Jesús María",
          "Manzana Jesuítica y Estancias de Córdoba",
          "Manzana Jesuítica y Estancias de Córdoba",
          "Manzana Jesuítica y Estancias de Córdoba",
          "Quebrada de Humahuaca",
          "Parque Nacional Talampaya",
          "Misiones Jesuíticas de Los Guaraníes",
          "Misiones Jesuíticas de Los Guaraníes",
          "Misiones Jesuíticas de Los Guaraníes",
          "Parque Nacional Iguazú",
          "Misiones Jesuíticas de Los Guaraníes",
          "Misiones Jesuíticas de Los Guaraníes",
          "Potrero de Payogasta - Qhapaq Ñan",
          "Complejo Ceremonial Volcán Llullaillaco - Qhapaq Ñan",
          "Graneros de La Poma - Qhapaq Ñan",
          "Santa Rosa de Tastil - Qhapaq Ñan ",
          "Parque Nacional Ischigualasto",
          "Cueva de las Manos",
          "Los Glaciares. Parque Nacional Los Glaciaries",
          "La Casa Curutchet",
          "Parque Nacional Los Alerces"
         ],
         "type": "scattergeo"
        },
        {
         "lat": [
          -42.442,
          -31.418219,
          -30.9881056,
          -30.969972,
          -30.86976,
          -30.7243188,
          -31.654552,
          -23.2055048,
          -29.8501731,
          -27.4616943,
          -27.3321304,
          -27.369649,
          -25.603608,
          -27.2598819,
          -27.868103,
          -25.0543194,
          -24.7209356,
          -24.7166691,
          -24.43333,
          -30.638682,
          -47.1502679,
          -50.3392052,
          -34.9113819,
          -42.852881
         ],
         "lon": [
          -62.638,
          -64.187447,
          -64.1061944,
          -64.097176,
          -64.234052,
          -64.8077052,
          -64.430603,
          -65.3523164,
          -67.9064941,
          -55.7430523,
          -55.52278,
          -55.5805271,
          -54.5767266,
          -55.5397095,
          -55.2638328,
          -66.1047363,
          -68.5352075,
          -66.2166672,
          -65.95,
          -67.4635683,
          -70.6666374,
          -72.261967,
          -57.9418171,
          -71.872631
         ],
         "text": [
          "Península Valdés",
          "Manzana Jesuítica y Estancias de Córdoba",
          "Estancia Jesuítica de Caroya",
          "Estancia Jesuítica Jesús María",
          "Manzana Jesuítica y Estancias de Córdoba",
          "Manzana Jesuítica y Estancias de Córdoba",
          "Manzana Jesuítica y Estancias de Córdoba",
          "Quebrada de Humahuaca",
          "Parque Nacional Talampaya",
          "Misiones Jesuíticas de Los Guaraníes",
          "Misiones Jesuíticas de Los Guaraníes",
          "Misiones Jesuíticas de Los Guaraníes",
          "Parque Nacional Iguazú",
          "Misiones Jesuíticas de Los Guaraníes",
          "Misiones Jesuíticas de Los Guaraníes",
          "Potrero de Payogasta - Qhapaq Ñan",
          "Complejo Ceremonial Volcán Llullaillaco - Qhapaq Ñan",
          "Graneros de La Poma - Qhapaq Ñan",
          "Santa Rosa de Tastil - Qhapaq Ñan ",
          "Parque Nacional Ischigualasto",
          "Cueva de las Manos",
          "Los Glaciares. Parque Nacional Los Glaciaries",
          "La Casa Curutchet",
          "Parque Nacional Los Alerces"
         ],
         "type": "scattergeo"
        }
       ],
       "layout": {
        "geo": {
         "countrycolor": "RebeccaPurple",
         "lataxis": {
          "range": [
           -57,
           -20
          ]
         },
         "lonaxis": {
          "range": [
           -75,
           -50
          ]
         },
         "scope": "south america",
         "showcountries": true,
         "showsubunits": true,
         "subunitcolor": "Blue",
         "visible": true
        },
        "height": 800,
        "template": {
         "data": {
          "bar": [
           {
            "error_x": {
             "color": "#2a3f5f"
            },
            "error_y": {
             "color": "#2a3f5f"
            },
            "marker": {
             "line": {
              "color": "#E5ECF6",
              "width": 0.5
             },
             "pattern": {
              "fillmode": "overlay",
              "size": 10,
              "solidity": 0.2
             }
            },
            "type": "bar"
           }
          ],
          "barpolar": [
           {
            "marker": {
             "line": {
              "color": "#E5ECF6",
              "width": 0.5
             },
             "pattern": {
              "fillmode": "overlay",
              "size": 10,
              "solidity": 0.2
             }
            },
            "type": "barpolar"
           }
          ],
          "carpet": [
           {
            "aaxis": {
             "endlinecolor": "#2a3f5f",
             "gridcolor": "white",
             "linecolor": "white",
             "minorgridcolor": "white",
             "startlinecolor": "#2a3f5f"
            },
            "baxis": {
             "endlinecolor": "#2a3f5f",
             "gridcolor": "white",
             "linecolor": "white",
             "minorgridcolor": "white",
             "startlinecolor": "#2a3f5f"
            },
            "type": "carpet"
           }
          ],
          "choropleth": [
           {
            "colorbar": {
             "outlinewidth": 0,
             "ticks": ""
            },
            "type": "choropleth"
           }
          ],
          "contour": [
           {
            "colorbar": {
             "outlinewidth": 0,
             "ticks": ""
            },
            "colorscale": [
             [
              0,
              "#0d0887"
             ],
             [
              0.1111111111111111,
              "#46039f"
             ],
             [
              0.2222222222222222,
              "#7201a8"
             ],
             [
              0.3333333333333333,
              "#9c179e"
             ],
             [
              0.4444444444444444,
              "#bd3786"
             ],
             [
              0.5555555555555556,
              "#d8576b"
             ],
             [
              0.6666666666666666,
              "#ed7953"
             ],
             [
              0.7777777777777778,
              "#fb9f3a"
             ],
             [
              0.8888888888888888,
              "#fdca26"
             ],
             [
              1,
              "#f0f921"
             ]
            ],
            "type": "contour"
           }
          ],
          "contourcarpet": [
           {
            "colorbar": {
             "outlinewidth": 0,
             "ticks": ""
            },
            "type": "contourcarpet"
           }
          ],
          "heatmap": [
           {
            "colorbar": {
             "outlinewidth": 0,
             "ticks": ""
            },
            "colorscale": [
             [
              0,
              "#0d0887"
             ],
             [
              0.1111111111111111,
              "#46039f"
             ],
             [
              0.2222222222222222,
              "#7201a8"
             ],
             [
              0.3333333333333333,
              "#9c179e"
             ],
             [
              0.4444444444444444,
              "#bd3786"
             ],
             [
              0.5555555555555556,
              "#d8576b"
             ],
             [
              0.6666666666666666,
              "#ed7953"
             ],
             [
              0.7777777777777778,
              "#fb9f3a"
             ],
             [
              0.8888888888888888,
              "#fdca26"
             ],
             [
              1,
              "#f0f921"
             ]
            ],
            "type": "heatmap"
           }
          ],
          "heatmapgl": [
           {
            "colorbar": {
             "outlinewidth": 0,
             "ticks": ""
            },
            "colorscale": [
             [
              0,
              "#0d0887"
             ],
             [
              0.1111111111111111,
              "#46039f"
             ],
             [
              0.2222222222222222,
              "#7201a8"
             ],
             [
              0.3333333333333333,
              "#9c179e"
             ],
             [
              0.4444444444444444,
              "#bd3786"
             ],
             [
              0.5555555555555556,
              "#d8576b"
             ],
             [
              0.6666666666666666,
              "#ed7953"
             ],
             [
              0.7777777777777778,
              "#fb9f3a"
             ],
             [
              0.8888888888888888,
              "#fdca26"
             ],
             [
              1,
              "#f0f921"
             ]
            ],
            "type": "heatmapgl"
           }
          ],
          "histogram": [
           {
            "marker": {
             "pattern": {
              "fillmode": "overlay",
              "size": 10,
              "solidity": 0.2
             }
            },
            "type": "histogram"
           }
          ],
          "histogram2d": [
           {
            "colorbar": {
             "outlinewidth": 0,
             "ticks": ""
            },
            "colorscale": [
             [
              0,
              "#0d0887"
             ],
             [
              0.1111111111111111,
              "#46039f"
             ],
             [
              0.2222222222222222,
              "#7201a8"
             ],
             [
              0.3333333333333333,
              "#9c179e"
             ],
             [
              0.4444444444444444,
              "#bd3786"
             ],
             [
              0.5555555555555556,
              "#d8576b"
             ],
             [
              0.6666666666666666,
              "#ed7953"
             ],
             [
              0.7777777777777778,
              "#fb9f3a"
             ],
             [
              0.8888888888888888,
              "#fdca26"
             ],
             [
              1,
              "#f0f921"
             ]
            ],
            "type": "histogram2d"
           }
          ],
          "histogram2dcontour": [
           {
            "colorbar": {
             "outlinewidth": 0,
             "ticks": ""
            },
            "colorscale": [
             [
              0,
              "#0d0887"
             ],
             [
              0.1111111111111111,
              "#46039f"
             ],
             [
              0.2222222222222222,
              "#7201a8"
             ],
             [
              0.3333333333333333,
              "#9c179e"
             ],
             [
              0.4444444444444444,
              "#bd3786"
             ],
             [
              0.5555555555555556,
              "#d8576b"
             ],
             [
              0.6666666666666666,
              "#ed7953"
             ],
             [
              0.7777777777777778,
              "#fb9f3a"
             ],
             [
              0.8888888888888888,
              "#fdca26"
             ],
             [
              1,
              "#f0f921"
             ]
            ],
            "type": "histogram2dcontour"
           }
          ],
          "mesh3d": [
           {
            "colorbar": {
             "outlinewidth": 0,
             "ticks": ""
            },
            "type": "mesh3d"
           }
          ],
          "parcoords": [
           {
            "line": {
             "colorbar": {
              "outlinewidth": 0,
              "ticks": ""
             }
            },
            "type": "parcoords"
           }
          ],
          "pie": [
           {
            "automargin": true,
            "type": "pie"
           }
          ],
          "scatter": [
           {
            "fillpattern": {
             "fillmode": "overlay",
             "size": 10,
             "solidity": 0.2
            },
            "type": "scatter"
           }
          ],
          "scatter3d": [
           {
            "line": {
             "colorbar": {
              "outlinewidth": 0,
              "ticks": ""
             }
            },
            "marker": {
             "colorbar": {
              "outlinewidth": 0,
              "ticks": ""
             }
            },
            "type": "scatter3d"
           }
          ],
          "scattercarpet": [
           {
            "marker": {
             "colorbar": {
              "outlinewidth": 0,
              "ticks": ""
             }
            },
            "type": "scattercarpet"
           }
          ],
          "scattergeo": [
           {
            "marker": {
             "colorbar": {
              "outlinewidth": 0,
              "ticks": ""
             }
            },
            "type": "scattergeo"
           }
          ],
          "scattergl": [
           {
            "marker": {
             "colorbar": {
              "outlinewidth": 0,
              "ticks": ""
             }
            },
            "type": "scattergl"
           }
          ],
          "scattermapbox": [
           {
            "marker": {
             "colorbar": {
              "outlinewidth": 0,
              "ticks": ""
             }
            },
            "type": "scattermapbox"
           }
          ],
          "scatterpolar": [
           {
            "marker": {
             "colorbar": {
              "outlinewidth": 0,
              "ticks": ""
             }
            },
            "type": "scatterpolar"
           }
          ],
          "scatterpolargl": [
           {
            "marker": {
             "colorbar": {
              "outlinewidth": 0,
              "ticks": ""
             }
            },
            "type": "scatterpolargl"
           }
          ],
          "scatterternary": [
           {
            "marker": {
             "colorbar": {
              "outlinewidth": 0,
              "ticks": ""
             }
            },
            "type": "scatterternary"
           }
          ],
          "surface": [
           {
            "colorbar": {
             "outlinewidth": 0,
             "ticks": ""
            },
            "colorscale": [
             [
              0,
              "#0d0887"
             ],
             [
              0.1111111111111111,
              "#46039f"
             ],
             [
              0.2222222222222222,
              "#7201a8"
             ],
             [
              0.3333333333333333,
              "#9c179e"
             ],
             [
              0.4444444444444444,
              "#bd3786"
             ],
             [
              0.5555555555555556,
              "#d8576b"
             ],
             [
              0.6666666666666666,
              "#ed7953"
             ],
             [
              0.7777777777777778,
              "#fb9f3a"
             ],
             [
              0.8888888888888888,
              "#fdca26"
             ],
             [
              1,
              "#f0f921"
             ]
            ],
            "type": "surface"
           }
          ],
          "table": [
           {
            "cells": {
             "fill": {
              "color": "#EBF0F8"
             },
             "line": {
              "color": "white"
             }
            },
            "header": {
             "fill": {
              "color": "#C8D4E3"
             },
             "line": {
              "color": "white"
             }
            },
            "type": "table"
           }
          ]
         },
         "layout": {
          "annotationdefaults": {
           "arrowcolor": "#2a3f5f",
           "arrowhead": 0,
           "arrowwidth": 1
          },
          "autotypenumbers": "strict",
          "coloraxis": {
           "colorbar": {
            "outlinewidth": 0,
            "ticks": ""
           }
          },
          "colorscale": {
           "diverging": [
            [
             0,
             "#8e0152"
            ],
            [
             0.1,
             "#c51b7d"
            ],
            [
             0.2,
             "#de77ae"
            ],
            [
             0.3,
             "#f1b6da"
            ],
            [
             0.4,
             "#fde0ef"
            ],
            [
             0.5,
             "#f7f7f7"
            ],
            [
             0.6,
             "#e6f5d0"
            ],
            [
             0.7,
             "#b8e186"
            ],
            [
             0.8,
             "#7fbc41"
            ],
            [
             0.9,
             "#4d9221"
            ],
            [
             1,
             "#276419"
            ]
           ],
           "sequential": [
            [
             0,
             "#0d0887"
            ],
            [
             0.1111111111111111,
             "#46039f"
            ],
            [
             0.2222222222222222,
             "#7201a8"
            ],
            [
             0.3333333333333333,
             "#9c179e"
            ],
            [
             0.4444444444444444,
             "#bd3786"
            ],
            [
             0.5555555555555556,
             "#d8576b"
            ],
            [
             0.6666666666666666,
             "#ed7953"
            ],
            [
             0.7777777777777778,
             "#fb9f3a"
            ],
            [
             0.8888888888888888,
             "#fdca26"
            ],
            [
             1,
             "#f0f921"
            ]
           ],
           "sequentialminus": [
            [
             0,
             "#0d0887"
            ],
            [
             0.1111111111111111,
             "#46039f"
            ],
            [
             0.2222222222222222,
             "#7201a8"
            ],
            [
             0.3333333333333333,
             "#9c179e"
            ],
            [
             0.4444444444444444,
             "#bd3786"
            ],
            [
             0.5555555555555556,
             "#d8576b"
            ],
            [
             0.6666666666666666,
             "#ed7953"
            ],
            [
             0.7777777777777778,
             "#fb9f3a"
            ],
            [
             0.8888888888888888,
             "#fdca26"
            ],
            [
             1,
             "#f0f921"
            ]
           ]
          },
          "colorway": [
           "#636efa",
           "#EF553B",
           "#00cc96",
           "#ab63fa",
           "#FFA15A",
           "#19d3f3",
           "#FF6692",
           "#B6E880",
           "#FF97FF",
           "#FECB52"
          ],
          "font": {
           "color": "#2a3f5f"
          },
          "geo": {
           "bgcolor": "white",
           "lakecolor": "white",
           "landcolor": "#E5ECF6",
           "showlakes": true,
           "showland": true,
           "subunitcolor": "white"
          },
          "hoverlabel": {
           "align": "left"
          },
          "hovermode": "closest",
          "mapbox": {
           "style": "light"
          },
          "paper_bgcolor": "white",
          "plot_bgcolor": "#E5ECF6",
          "polar": {
           "angularaxis": {
            "gridcolor": "white",
            "linecolor": "white",
            "ticks": ""
           },
           "bgcolor": "#E5ECF6",
           "radialaxis": {
            "gridcolor": "white",
            "linecolor": "white",
            "ticks": ""
           }
          },
          "scene": {
           "xaxis": {
            "backgroundcolor": "#E5ECF6",
            "gridcolor": "white",
            "gridwidth": 2,
            "linecolor": "white",
            "showbackground": true,
            "ticks": "",
            "zerolinecolor": "white"
           },
           "yaxis": {
            "backgroundcolor": "#E5ECF6",
            "gridcolor": "white",
            "gridwidth": 2,
            "linecolor": "white",
            "showbackground": true,
            "ticks": "",
            "zerolinecolor": "white"
           },
           "zaxis": {
            "backgroundcolor": "#E5ECF6",
            "gridcolor": "white",
            "gridwidth": 2,
            "linecolor": "white",
            "showbackground": true,
            "ticks": "",
            "zerolinecolor": "white"
           }
          },
          "shapedefaults": {
           "line": {
            "color": "#2a3f5f"
           }
          },
          "ternary": {
           "aaxis": {
            "gridcolor": "white",
            "linecolor": "white",
            "ticks": ""
           },
           "baxis": {
            "gridcolor": "white",
            "linecolor": "white",
            "ticks": ""
           },
           "bgcolor": "#E5ECF6",
           "caxis": {
            "gridcolor": "white",
            "linecolor": "white",
            "ticks": ""
           }
          },
          "title": {
           "x": 0.05
          },
          "xaxis": {
           "automargin": true,
           "gridcolor": "white",
           "linecolor": "white",
           "ticks": "",
           "title": {
            "standoff": 15
           },
           "zerolinecolor": "white",
           "zerolinewidth": 2
          },
          "yaxis": {
           "automargin": true,
           "gridcolor": "white",
           "linecolor": "white",
           "ticks": "",
           "title": {
            "standoff": 15
           },
           "zerolinecolor": "white",
           "zerolinewidth": 2
          }
         }
        },
        "title": {
         "text": "Sitios declarados Patrimonio de la Humanidad - Argentina actualizado 2020"
        }
       }
      },
      "text/html": [
       "<div>                            <div id=\"d6431b98-e255-411a-871e-50cdd5a373b4\" class=\"plotly-graph-div\" style=\"height:800px; width:100%;\"></div>            <script type=\"text/javascript\">                require([\"plotly\"], function(Plotly) {                    window.PLOTLYENV=window.PLOTLYENV || {};                                    if (document.getElementById(\"d6431b98-e255-411a-871e-50cdd5a373b4\")) {                    Plotly.newPlot(                        \"d6431b98-e255-411a-871e-50cdd5a373b4\",                        [{\"lat\":[-42.442,-31.418219,-30.9881056,-30.969972,-30.86976,-30.7243188,-31.654552,-23.2055048,-29.8501731,-27.4616943,-27.3321304,-27.369649,-25.603608,-27.2598819,-27.868103,-25.0543194,-24.7209356,-24.7166691,-24.43333,-30.638682,-47.1502679,-50.3392052,-34.9113819,-42.852881],\"lon\":[-62.638,-64.187447,-64.1061944,-64.097176,-64.234052,-64.8077052,-64.430603,-65.3523164,-67.9064941,-55.7430523,-55.52278,-55.5805271,-54.5767266,-55.5397095,-55.2638328,-66.1047363,-68.5352075,-66.2166672,-65.95,-67.4635683,-70.6666374,-72.261967,-57.9418171,-71.872631],\"text\":[\"Pen\\u00ednsula Vald\\u00e9s\",\"Manzana Jesu\\u00edtica y Estancias de C\\u00f3rdoba\",\"Estancia Jesu\\u00edtica de Caroya\",\"Estancia Jesu\\u00edtica Jes\\u00fas Mar\\u00eda\",\"Manzana Jesu\\u00edtica y Estancias de C\\u00f3rdoba\",\"Manzana Jesu\\u00edtica y Estancias de C\\u00f3rdoba\",\"Manzana Jesu\\u00edtica y Estancias de C\\u00f3rdoba\",\"Quebrada de Humahuaca\",\"Parque Nacional Talampaya\",\"Misiones Jesu\\u00edticas de Los Guaran\\u00edes\",\"Misiones Jesu\\u00edticas de Los Guaran\\u00edes\",\"Misiones Jesu\\u00edticas de Los Guaran\\u00edes\",\"Parque Nacional Iguaz\\u00fa\",\"Misiones Jesu\\u00edticas de Los Guaran\\u00edes\",\"Misiones Jesu\\u00edticas de Los Guaran\\u00edes\",\"Potrero de Payogasta - Qhapaq \\u00d1an\",\"Complejo Ceremonial Volc\\u00e1n Llullaillaco - Qhapaq \\u00d1an\",\"Graneros de La Poma - Qhapaq \\u00d1an\",\"Santa Rosa de Tastil - Qhapaq \\u00d1an \",\"Parque Nacional Ischigualasto\",\"Cueva de las Manos\",\"Los Glaciares. Parque Nacional Los Glaciaries\",\"La Casa Curutchet\",\"Parque Nacional Los Alerces\"],\"type\":\"scattergeo\"},{\"lat\":[-42.442,-31.418219,-30.9881056,-30.969972,-30.86976,-30.7243188,-31.654552,-23.2055048,-29.8501731,-27.4616943,-27.3321304,-27.369649,-25.603608,-27.2598819,-27.868103,-25.0543194,-24.7209356,-24.7166691,-24.43333,-30.638682,-47.1502679,-50.3392052,-34.9113819,-42.852881],\"lon\":[-62.638,-64.187447,-64.1061944,-64.097176,-64.234052,-64.8077052,-64.430603,-65.3523164,-67.9064941,-55.7430523,-55.52278,-55.5805271,-54.5767266,-55.5397095,-55.2638328,-66.1047363,-68.5352075,-66.2166672,-65.95,-67.4635683,-70.6666374,-72.261967,-57.9418171,-71.872631],\"text\":[\"Pen\\u00ednsula Vald\\u00e9s\",\"Manzana Jesu\\u00edtica y Estancias de C\\u00f3rdoba\",\"Estancia Jesu\\u00edtica de Caroya\",\"Estancia Jesu\\u00edtica Jes\\u00fas Mar\\u00eda\",\"Manzana Jesu\\u00edtica y Estancias de C\\u00f3rdoba\",\"Manzana Jesu\\u00edtica y Estancias de C\\u00f3rdoba\",\"Manzana Jesu\\u00edtica y Estancias de C\\u00f3rdoba\",\"Quebrada de Humahuaca\",\"Parque Nacional Talampaya\",\"Misiones Jesu\\u00edticas de Los Guaran\\u00edes\",\"Misiones Jesu\\u00edticas de Los Guaran\\u00edes\",\"Misiones Jesu\\u00edticas de Los Guaran\\u00edes\",\"Parque Nacional Iguaz\\u00fa\",\"Misiones Jesu\\u00edticas de Los Guaran\\u00edes\",\"Misiones Jesu\\u00edticas de Los Guaran\\u00edes\",\"Potrero de Payogasta - Qhapaq \\u00d1an\",\"Complejo Ceremonial Volc\\u00e1n Llullaillaco - Qhapaq \\u00d1an\",\"Graneros de La Poma - Qhapaq \\u00d1an\",\"Santa Rosa de Tastil - Qhapaq \\u00d1an \",\"Parque Nacional Ischigualasto\",\"Cueva de las Manos\",\"Los Glaciares. Parque Nacional Los Glaciaries\",\"La Casa Curutchet\",\"Parque Nacional Los Alerces\"],\"type\":\"scattergeo\"},{\"lat\":[-42.442,-31.418219,-30.9881056,-30.969972,-30.86976,-30.7243188,-31.654552,-23.2055048,-29.8501731,-27.4616943,-27.3321304,-27.369649,-25.603608,-27.2598819,-27.868103,-25.0543194,-24.7209356,-24.7166691,-24.43333,-30.638682,-47.1502679,-50.3392052,-34.9113819,-42.852881],\"lon\":[-62.638,-64.187447,-64.1061944,-64.097176,-64.234052,-64.8077052,-64.430603,-65.3523164,-67.9064941,-55.7430523,-55.52278,-55.5805271,-54.5767266,-55.5397095,-55.2638328,-66.1047363,-68.5352075,-66.2166672,-65.95,-67.4635683,-70.6666374,-72.261967,-57.9418171,-71.872631],\"text\":[\"Pen\\u00ednsula Vald\\u00e9s\",\"Manzana Jesu\\u00edtica y Estancias de C\\u00f3rdoba\",\"Estancia Jesu\\u00edtica de Caroya\",\"Estancia Jesu\\u00edtica Jes\\u00fas Mar\\u00eda\",\"Manzana Jesu\\u00edtica y Estancias de C\\u00f3rdoba\",\"Manzana Jesu\\u00edtica y Estancias de C\\u00f3rdoba\",\"Manzana Jesu\\u00edtica y Estancias de C\\u00f3rdoba\",\"Quebrada de Humahuaca\",\"Parque Nacional Talampaya\",\"Misiones Jesu\\u00edticas de Los Guaran\\u00edes\",\"Misiones Jesu\\u00edticas de Los Guaran\\u00edes\",\"Misiones Jesu\\u00edticas de Los Guaran\\u00edes\",\"Parque Nacional Iguaz\\u00fa\",\"Misiones Jesu\\u00edticas de Los Guaran\\u00edes\",\"Misiones Jesu\\u00edticas de Los Guaran\\u00edes\",\"Potrero de Payogasta - Qhapaq \\u00d1an\",\"Complejo Ceremonial Volc\\u00e1n Llullaillaco - Qhapaq \\u00d1an\",\"Graneros de La Poma - Qhapaq \\u00d1an\",\"Santa Rosa de Tastil - Qhapaq \\u00d1an \",\"Parque Nacional Ischigualasto\",\"Cueva de las Manos\",\"Los Glaciares. Parque Nacional Los Glaciaries\",\"La Casa Curutchet\",\"Parque Nacional Los Alerces\"],\"type\":\"scattergeo\"},{\"lat\":[-42.442,-31.418219,-30.9881056,-30.969972,-30.86976,-30.7243188,-31.654552,-23.2055048,-29.8501731,-27.4616943,-27.3321304,-27.369649,-25.603608,-27.2598819,-27.868103,-25.0543194,-24.7209356,-24.7166691,-24.43333,-30.638682,-47.1502679,-50.3392052,-34.9113819,-42.852881],\"lon\":[-62.638,-64.187447,-64.1061944,-64.097176,-64.234052,-64.8077052,-64.430603,-65.3523164,-67.9064941,-55.7430523,-55.52278,-55.5805271,-54.5767266,-55.5397095,-55.2638328,-66.1047363,-68.5352075,-66.2166672,-65.95,-67.4635683,-70.6666374,-72.261967,-57.9418171,-71.872631],\"text\":[\"Pen\\u00ednsula Vald\\u00e9s\",\"Manzana Jesu\\u00edtica y Estancias de C\\u00f3rdoba\",\"Estancia Jesu\\u00edtica de Caroya\",\"Estancia Jesu\\u00edtica Jes\\u00fas Mar\\u00eda\",\"Manzana Jesu\\u00edtica y Estancias de C\\u00f3rdoba\",\"Manzana Jesu\\u00edtica y Estancias de C\\u00f3rdoba\",\"Manzana Jesu\\u00edtica y Estancias de C\\u00f3rdoba\",\"Quebrada de Humahuaca\",\"Parque Nacional Talampaya\",\"Misiones Jesu\\u00edticas de Los Guaran\\u00edes\",\"Misiones Jesu\\u00edticas de Los Guaran\\u00edes\",\"Misiones Jesu\\u00edticas de Los Guaran\\u00edes\",\"Parque Nacional Iguaz\\u00fa\",\"Misiones Jesu\\u00edticas de Los Guaran\\u00edes\",\"Misiones Jesu\\u00edticas de Los Guaran\\u00edes\",\"Potrero de Payogasta - Qhapaq \\u00d1an\",\"Complejo Ceremonial Volc\\u00e1n Llullaillaco - Qhapaq \\u00d1an\",\"Graneros de La Poma - Qhapaq \\u00d1an\",\"Santa Rosa de Tastil - Qhapaq \\u00d1an \",\"Parque Nacional Ischigualasto\",\"Cueva de las Manos\",\"Los Glaciares. Parque Nacional Los Glaciaries\",\"La Casa Curutchet\",\"Parque Nacional Los Alerces\"],\"type\":\"scattergeo\"},{\"lat\":[-42.442,-31.418219,-30.9881056,-30.969972,-30.86976,-30.7243188,-31.654552,-23.2055048,-29.8501731,-27.4616943,-27.3321304,-27.369649,-25.603608,-27.2598819,-27.868103,-25.0543194,-24.7209356,-24.7166691,-24.43333,-30.638682,-47.1502679,-50.3392052,-34.9113819,-42.852881],\"lon\":[-62.638,-64.187447,-64.1061944,-64.097176,-64.234052,-64.8077052,-64.430603,-65.3523164,-67.9064941,-55.7430523,-55.52278,-55.5805271,-54.5767266,-55.5397095,-55.2638328,-66.1047363,-68.5352075,-66.2166672,-65.95,-67.4635683,-70.6666374,-72.261967,-57.9418171,-71.872631],\"text\":[\"Pen\\u00ednsula Vald\\u00e9s\",\"Manzana Jesu\\u00edtica y Estancias de C\\u00f3rdoba\",\"Estancia Jesu\\u00edtica de Caroya\",\"Estancia Jesu\\u00edtica Jes\\u00fas Mar\\u00eda\",\"Manzana Jesu\\u00edtica y Estancias de C\\u00f3rdoba\",\"Manzana Jesu\\u00edtica y Estancias de C\\u00f3rdoba\",\"Manzana Jesu\\u00edtica y Estancias de C\\u00f3rdoba\",\"Quebrada de Humahuaca\",\"Parque Nacional Talampaya\",\"Misiones Jesu\\u00edticas de Los Guaran\\u00edes\",\"Misiones Jesu\\u00edticas de Los Guaran\\u00edes\",\"Misiones Jesu\\u00edticas de Los Guaran\\u00edes\",\"Parque Nacional Iguaz\\u00fa\",\"Misiones Jesu\\u00edticas de Los Guaran\\u00edes\",\"Misiones Jesu\\u00edticas de Los Guaran\\u00edes\",\"Potrero de Payogasta - Qhapaq \\u00d1an\",\"Complejo Ceremonial Volc\\u00e1n Llullaillaco - Qhapaq \\u00d1an\",\"Graneros de La Poma - Qhapaq \\u00d1an\",\"Santa Rosa de Tastil - Qhapaq \\u00d1an \",\"Parque Nacional Ischigualasto\",\"Cueva de las Manos\",\"Los Glaciares. Parque Nacional Los Glaciaries\",\"La Casa Curutchet\",\"Parque Nacional Los Alerces\"],\"type\":\"scattergeo\"},{\"lat\":[-42.442,-31.418219,-30.9881056,-30.969972,-30.86976,-30.7243188,-31.654552,-23.2055048,-29.8501731,-27.4616943,-27.3321304,-27.369649,-25.603608,-27.2598819,-27.868103,-25.0543194,-24.7209356,-24.7166691,-24.43333,-30.638682,-47.1502679,-50.3392052,-34.9113819,-42.852881],\"lon\":[-62.638,-64.187447,-64.1061944,-64.097176,-64.234052,-64.8077052,-64.430603,-65.3523164,-67.9064941,-55.7430523,-55.52278,-55.5805271,-54.5767266,-55.5397095,-55.2638328,-66.1047363,-68.5352075,-66.2166672,-65.95,-67.4635683,-70.6666374,-72.261967,-57.9418171,-71.872631],\"text\":[\"Pen\\u00ednsula Vald\\u00e9s\",\"Manzana Jesu\\u00edtica y Estancias de C\\u00f3rdoba\",\"Estancia Jesu\\u00edtica de Caroya\",\"Estancia Jesu\\u00edtica Jes\\u00fas Mar\\u00eda\",\"Manzana Jesu\\u00edtica y Estancias de C\\u00f3rdoba\",\"Manzana Jesu\\u00edtica y Estancias de C\\u00f3rdoba\",\"Manzana Jesu\\u00edtica y Estancias de C\\u00f3rdoba\",\"Quebrada de Humahuaca\",\"Parque Nacional Talampaya\",\"Misiones Jesu\\u00edticas de Los Guaran\\u00edes\",\"Misiones Jesu\\u00edticas de Los Guaran\\u00edes\",\"Misiones Jesu\\u00edticas de Los Guaran\\u00edes\",\"Parque Nacional Iguaz\\u00fa\",\"Misiones Jesu\\u00edticas de Los Guaran\\u00edes\",\"Misiones Jesu\\u00edticas de Los Guaran\\u00edes\",\"Potrero de Payogasta - Qhapaq \\u00d1an\",\"Complejo Ceremonial Volc\\u00e1n Llullaillaco - Qhapaq \\u00d1an\",\"Graneros de La Poma - Qhapaq \\u00d1an\",\"Santa Rosa de Tastil - Qhapaq \\u00d1an \",\"Parque Nacional Ischigualasto\",\"Cueva de las Manos\",\"Los Glaciares. Parque Nacional Los Glaciaries\",\"La Casa Curutchet\",\"Parque Nacional Los Alerces\"],\"type\":\"scattergeo\"},{\"lat\":[-42.442,-31.418219,-30.9881056,-30.969972,-30.86976,-30.7243188,-31.654552,-23.2055048,-29.8501731,-27.4616943,-27.3321304,-27.369649,-25.603608,-27.2598819,-27.868103,-25.0543194,-24.7209356,-24.7166691,-24.43333,-30.638682,-47.1502679,-50.3392052,-34.9113819,-42.852881],\"lon\":[-62.638,-64.187447,-64.1061944,-64.097176,-64.234052,-64.8077052,-64.430603,-65.3523164,-67.9064941,-55.7430523,-55.52278,-55.5805271,-54.5767266,-55.5397095,-55.2638328,-66.1047363,-68.5352075,-66.2166672,-65.95,-67.4635683,-70.6666374,-72.261967,-57.9418171,-71.872631],\"text\":[\"Pen\\u00ednsula Vald\\u00e9s\",\"Manzana Jesu\\u00edtica y Estancias de C\\u00f3rdoba\",\"Estancia Jesu\\u00edtica de Caroya\",\"Estancia Jesu\\u00edtica Jes\\u00fas Mar\\u00eda\",\"Manzana Jesu\\u00edtica y Estancias de C\\u00f3rdoba\",\"Manzana Jesu\\u00edtica y Estancias de C\\u00f3rdoba\",\"Manzana Jesu\\u00edtica y Estancias de C\\u00f3rdoba\",\"Quebrada de Humahuaca\",\"Parque Nacional Talampaya\",\"Misiones Jesu\\u00edticas de Los Guaran\\u00edes\",\"Misiones Jesu\\u00edticas de Los Guaran\\u00edes\",\"Misiones Jesu\\u00edticas de Los Guaran\\u00edes\",\"Parque Nacional Iguaz\\u00fa\",\"Misiones Jesu\\u00edticas de Los Guaran\\u00edes\",\"Misiones Jesu\\u00edticas de Los Guaran\\u00edes\",\"Potrero de Payogasta - Qhapaq \\u00d1an\",\"Complejo Ceremonial Volc\\u00e1n Llullaillaco - Qhapaq \\u00d1an\",\"Graneros de La Poma - Qhapaq \\u00d1an\",\"Santa Rosa de Tastil - Qhapaq \\u00d1an \",\"Parque Nacional Ischigualasto\",\"Cueva de las Manos\",\"Los Glaciares. Parque Nacional Los Glaciaries\",\"La Casa Curutchet\",\"Parque Nacional Los Alerces\"],\"type\":\"scattergeo\"},{\"lat\":[-42.442,-31.418219,-30.9881056,-30.969972,-30.86976,-30.7243188,-31.654552,-23.2055048,-29.8501731,-27.4616943,-27.3321304,-27.369649,-25.603608,-27.2598819,-27.868103,-25.0543194,-24.7209356,-24.7166691,-24.43333,-30.638682,-47.1502679,-50.3392052,-34.9113819,-42.852881],\"lon\":[-62.638,-64.187447,-64.1061944,-64.097176,-64.234052,-64.8077052,-64.430603,-65.3523164,-67.9064941,-55.7430523,-55.52278,-55.5805271,-54.5767266,-55.5397095,-55.2638328,-66.1047363,-68.5352075,-66.2166672,-65.95,-67.4635683,-70.6666374,-72.261967,-57.9418171,-71.872631],\"text\":[\"Pen\\u00ednsula Vald\\u00e9s\",\"Manzana Jesu\\u00edtica y Estancias de C\\u00f3rdoba\",\"Estancia Jesu\\u00edtica de Caroya\",\"Estancia Jesu\\u00edtica Jes\\u00fas Mar\\u00eda\",\"Manzana Jesu\\u00edtica y Estancias de C\\u00f3rdoba\",\"Manzana Jesu\\u00edtica y Estancias de C\\u00f3rdoba\",\"Manzana Jesu\\u00edtica y Estancias de C\\u00f3rdoba\",\"Quebrada de Humahuaca\",\"Parque Nacional Talampaya\",\"Misiones Jesu\\u00edticas de Los Guaran\\u00edes\",\"Misiones Jesu\\u00edticas de Los Guaran\\u00edes\",\"Misiones Jesu\\u00edticas de Los Guaran\\u00edes\",\"Parque Nacional Iguaz\\u00fa\",\"Misiones Jesu\\u00edticas de Los Guaran\\u00edes\",\"Misiones Jesu\\u00edticas de Los Guaran\\u00edes\",\"Potrero de Payogasta - Qhapaq \\u00d1an\",\"Complejo Ceremonial Volc\\u00e1n Llullaillaco - Qhapaq \\u00d1an\",\"Graneros de La Poma - Qhapaq \\u00d1an\",\"Santa Rosa de Tastil - Qhapaq \\u00d1an \",\"Parque Nacional Ischigualasto\",\"Cueva de las Manos\",\"Los Glaciares. Parque Nacional Los Glaciaries\",\"La Casa Curutchet\",\"Parque Nacional Los Alerces\"],\"type\":\"scattergeo\"},{\"lat\":[-42.442,-31.418219,-30.9881056,-30.969972,-30.86976,-30.7243188,-31.654552,-23.2055048,-29.8501731,-27.4616943,-27.3321304,-27.369649,-25.603608,-27.2598819,-27.868103,-25.0543194,-24.7209356,-24.7166691,-24.43333,-30.638682,-47.1502679,-50.3392052,-34.9113819,-42.852881],\"lon\":[-62.638,-64.187447,-64.1061944,-64.097176,-64.234052,-64.8077052,-64.430603,-65.3523164,-67.9064941,-55.7430523,-55.52278,-55.5805271,-54.5767266,-55.5397095,-55.2638328,-66.1047363,-68.5352075,-66.2166672,-65.95,-67.4635683,-70.6666374,-72.261967,-57.9418171,-71.872631],\"text\":[\"Pen\\u00ednsula Vald\\u00e9s\",\"Manzana Jesu\\u00edtica y Estancias de C\\u00f3rdoba\",\"Estancia Jesu\\u00edtica de Caroya\",\"Estancia Jesu\\u00edtica Jes\\u00fas Mar\\u00eda\",\"Manzana Jesu\\u00edtica y Estancias de C\\u00f3rdoba\",\"Manzana Jesu\\u00edtica y Estancias de C\\u00f3rdoba\",\"Manzana Jesu\\u00edtica y Estancias de C\\u00f3rdoba\",\"Quebrada de Humahuaca\",\"Parque Nacional Talampaya\",\"Misiones Jesu\\u00edticas de Los Guaran\\u00edes\",\"Misiones Jesu\\u00edticas de Los Guaran\\u00edes\",\"Misiones Jesu\\u00edticas de Los Guaran\\u00edes\",\"Parque Nacional Iguaz\\u00fa\",\"Misiones Jesu\\u00edticas de Los Guaran\\u00edes\",\"Misiones Jesu\\u00edticas de Los Guaran\\u00edes\",\"Potrero de Payogasta - Qhapaq \\u00d1an\",\"Complejo Ceremonial Volc\\u00e1n Llullaillaco - Qhapaq \\u00d1an\",\"Graneros de La Poma - Qhapaq \\u00d1an\",\"Santa Rosa de Tastil - Qhapaq \\u00d1an \",\"Parque Nacional Ischigualasto\",\"Cueva de las Manos\",\"Los Glaciares. Parque Nacional Los Glaciaries\",\"La Casa Curutchet\",\"Parque Nacional Los Alerces\"],\"type\":\"scattergeo\"}],                        {\"template\":{\"data\":{\"histogram2dcontour\":[{\"type\":\"histogram2dcontour\",\"colorbar\":{\"outlinewidth\":0,\"ticks\":\"\"},\"colorscale\":[[0.0,\"#0d0887\"],[0.1111111111111111,\"#46039f\"],[0.2222222222222222,\"#7201a8\"],[0.3333333333333333,\"#9c179e\"],[0.4444444444444444,\"#bd3786\"],[0.5555555555555556,\"#d8576b\"],[0.6666666666666666,\"#ed7953\"],[0.7777777777777778,\"#fb9f3a\"],[0.8888888888888888,\"#fdca26\"],[1.0,\"#f0f921\"]]}],\"choropleth\":[{\"type\":\"choropleth\",\"colorbar\":{\"outlinewidth\":0,\"ticks\":\"\"}}],\"histogram2d\":[{\"type\":\"histogram2d\",\"colorbar\":{\"outlinewidth\":0,\"ticks\":\"\"},\"colorscale\":[[0.0,\"#0d0887\"],[0.1111111111111111,\"#46039f\"],[0.2222222222222222,\"#7201a8\"],[0.3333333333333333,\"#9c179e\"],[0.4444444444444444,\"#bd3786\"],[0.5555555555555556,\"#d8576b\"],[0.6666666666666666,\"#ed7953\"],[0.7777777777777778,\"#fb9f3a\"],[0.8888888888888888,\"#fdca26\"],[1.0,\"#f0f921\"]]}],\"heatmap\":[{\"type\":\"heatmap\",\"colorbar\":{\"outlinewidth\":0,\"ticks\":\"\"},\"colorscale\":[[0.0,\"#0d0887\"],[0.1111111111111111,\"#46039f\"],[0.2222222222222222,\"#7201a8\"],[0.3333333333333333,\"#9c179e\"],[0.4444444444444444,\"#bd3786\"],[0.5555555555555556,\"#d8576b\"],[0.6666666666666666,\"#ed7953\"],[0.7777777777777778,\"#fb9f3a\"],[0.8888888888888888,\"#fdca26\"],[1.0,\"#f0f921\"]]}],\"heatmapgl\":[{\"type\":\"heatmapgl\",\"colorbar\":{\"outlinewidth\":0,\"ticks\":\"\"},\"colorscale\":[[0.0,\"#0d0887\"],[0.1111111111111111,\"#46039f\"],[0.2222222222222222,\"#7201a8\"],[0.3333333333333333,\"#9c179e\"],[0.4444444444444444,\"#bd3786\"],[0.5555555555555556,\"#d8576b\"],[0.6666666666666666,\"#ed7953\"],[0.7777777777777778,\"#fb9f3a\"],[0.8888888888888888,\"#fdca26\"],[1.0,\"#f0f921\"]]}],\"contourcarpet\":[{\"type\":\"contourcarpet\",\"colorbar\":{\"outlinewidth\":0,\"ticks\":\"\"}}],\"contour\":[{\"type\":\"contour\",\"colorbar\":{\"outlinewidth\":0,\"ticks\":\"\"},\"colorscale\":[[0.0,\"#0d0887\"],[0.1111111111111111,\"#46039f\"],[0.2222222222222222,\"#7201a8\"],[0.3333333333333333,\"#9c179e\"],[0.4444444444444444,\"#bd3786\"],[0.5555555555555556,\"#d8576b\"],[0.6666666666666666,\"#ed7953\"],[0.7777777777777778,\"#fb9f3a\"],[0.8888888888888888,\"#fdca26\"],[1.0,\"#f0f921\"]]}],\"surface\":[{\"type\":\"surface\",\"colorbar\":{\"outlinewidth\":0,\"ticks\":\"\"},\"colorscale\":[[0.0,\"#0d0887\"],[0.1111111111111111,\"#46039f\"],[0.2222222222222222,\"#7201a8\"],[0.3333333333333333,\"#9c179e\"],[0.4444444444444444,\"#bd3786\"],[0.5555555555555556,\"#d8576b\"],[0.6666666666666666,\"#ed7953\"],[0.7777777777777778,\"#fb9f3a\"],[0.8888888888888888,\"#fdca26\"],[1.0,\"#f0f921\"]]}],\"mesh3d\":[{\"type\":\"mesh3d\",\"colorbar\":{\"outlinewidth\":0,\"ticks\":\"\"}}],\"scatter\":[{\"fillpattern\":{\"fillmode\":\"overlay\",\"size\":10,\"solidity\":0.2},\"type\":\"scatter\"}],\"parcoords\":[{\"type\":\"parcoords\",\"line\":{\"colorbar\":{\"outlinewidth\":0,\"ticks\":\"\"}}}],\"scatterpolargl\":[{\"type\":\"scatterpolargl\",\"marker\":{\"colorbar\":{\"outlinewidth\":0,\"ticks\":\"\"}}}],\"bar\":[{\"error_x\":{\"color\":\"#2a3f5f\"},\"error_y\":{\"color\":\"#2a3f5f\"},\"marker\":{\"line\":{\"color\":\"#E5ECF6\",\"width\":0.5},\"pattern\":{\"fillmode\":\"overlay\",\"size\":10,\"solidity\":0.2}},\"type\":\"bar\"}],\"scattergeo\":[{\"type\":\"scattergeo\",\"marker\":{\"colorbar\":{\"outlinewidth\":0,\"ticks\":\"\"}}}],\"scatterpolar\":[{\"type\":\"scatterpolar\",\"marker\":{\"colorbar\":{\"outlinewidth\":0,\"ticks\":\"\"}}}],\"histogram\":[{\"marker\":{\"pattern\":{\"fillmode\":\"overlay\",\"size\":10,\"solidity\":0.2}},\"type\":\"histogram\"}],\"scattergl\":[{\"type\":\"scattergl\",\"marker\":{\"colorbar\":{\"outlinewidth\":0,\"ticks\":\"\"}}}],\"scatter3d\":[{\"type\":\"scatter3d\",\"line\":{\"colorbar\":{\"outlinewidth\":0,\"ticks\":\"\"}},\"marker\":{\"colorbar\":{\"outlinewidth\":0,\"ticks\":\"\"}}}],\"scattermapbox\":[{\"type\":\"scattermapbox\",\"marker\":{\"colorbar\":{\"outlinewidth\":0,\"ticks\":\"\"}}}],\"scatterternary\":[{\"type\":\"scatterternary\",\"marker\":{\"colorbar\":{\"outlinewidth\":0,\"ticks\":\"\"}}}],\"scattercarpet\":[{\"type\":\"scattercarpet\",\"marker\":{\"colorbar\":{\"outlinewidth\":0,\"ticks\":\"\"}}}],\"carpet\":[{\"aaxis\":{\"endlinecolor\":\"#2a3f5f\",\"gridcolor\":\"white\",\"linecolor\":\"white\",\"minorgridcolor\":\"white\",\"startlinecolor\":\"#2a3f5f\"},\"baxis\":{\"endlinecolor\":\"#2a3f5f\",\"gridcolor\":\"white\",\"linecolor\":\"white\",\"minorgridcolor\":\"white\",\"startlinecolor\":\"#2a3f5f\"},\"type\":\"carpet\"}],\"table\":[{\"cells\":{\"fill\":{\"color\":\"#EBF0F8\"},\"line\":{\"color\":\"white\"}},\"header\":{\"fill\":{\"color\":\"#C8D4E3\"},\"line\":{\"color\":\"white\"}},\"type\":\"table\"}],\"barpolar\":[{\"marker\":{\"line\":{\"color\":\"#E5ECF6\",\"width\":0.5},\"pattern\":{\"fillmode\":\"overlay\",\"size\":10,\"solidity\":0.2}},\"type\":\"barpolar\"}],\"pie\":[{\"automargin\":true,\"type\":\"pie\"}]},\"layout\":{\"autotypenumbers\":\"strict\",\"colorway\":[\"#636efa\",\"#EF553B\",\"#00cc96\",\"#ab63fa\",\"#FFA15A\",\"#19d3f3\",\"#FF6692\",\"#B6E880\",\"#FF97FF\",\"#FECB52\"],\"font\":{\"color\":\"#2a3f5f\"},\"hovermode\":\"closest\",\"hoverlabel\":{\"align\":\"left\"},\"paper_bgcolor\":\"white\",\"plot_bgcolor\":\"#E5ECF6\",\"polar\":{\"bgcolor\":\"#E5ECF6\",\"angularaxis\":{\"gridcolor\":\"white\",\"linecolor\":\"white\",\"ticks\":\"\"},\"radialaxis\":{\"gridcolor\":\"white\",\"linecolor\":\"white\",\"ticks\":\"\"}},\"ternary\":{\"bgcolor\":\"#E5ECF6\",\"aaxis\":{\"gridcolor\":\"white\",\"linecolor\":\"white\",\"ticks\":\"\"},\"baxis\":{\"gridcolor\":\"white\",\"linecolor\":\"white\",\"ticks\":\"\"},\"caxis\":{\"gridcolor\":\"white\",\"linecolor\":\"white\",\"ticks\":\"\"}},\"coloraxis\":{\"colorbar\":{\"outlinewidth\":0,\"ticks\":\"\"}},\"colorscale\":{\"sequential\":[[0.0,\"#0d0887\"],[0.1111111111111111,\"#46039f\"],[0.2222222222222222,\"#7201a8\"],[0.3333333333333333,\"#9c179e\"],[0.4444444444444444,\"#bd3786\"],[0.5555555555555556,\"#d8576b\"],[0.6666666666666666,\"#ed7953\"],[0.7777777777777778,\"#fb9f3a\"],[0.8888888888888888,\"#fdca26\"],[1.0,\"#f0f921\"]],\"sequentialminus\":[[0.0,\"#0d0887\"],[0.1111111111111111,\"#46039f\"],[0.2222222222222222,\"#7201a8\"],[0.3333333333333333,\"#9c179e\"],[0.4444444444444444,\"#bd3786\"],[0.5555555555555556,\"#d8576b\"],[0.6666666666666666,\"#ed7953\"],[0.7777777777777778,\"#fb9f3a\"],[0.8888888888888888,\"#fdca26\"],[1.0,\"#f0f921\"]],\"diverging\":[[0,\"#8e0152\"],[0.1,\"#c51b7d\"],[0.2,\"#de77ae\"],[0.3,\"#f1b6da\"],[0.4,\"#fde0ef\"],[0.5,\"#f7f7f7\"],[0.6,\"#e6f5d0\"],[0.7,\"#b8e186\"],[0.8,\"#7fbc41\"],[0.9,\"#4d9221\"],[1,\"#276419\"]]},\"xaxis\":{\"gridcolor\":\"white\",\"linecolor\":\"white\",\"ticks\":\"\",\"title\":{\"standoff\":15},\"zerolinecolor\":\"white\",\"automargin\":true,\"zerolinewidth\":2},\"yaxis\":{\"gridcolor\":\"white\",\"linecolor\":\"white\",\"ticks\":\"\",\"title\":{\"standoff\":15},\"zerolinecolor\":\"white\",\"automargin\":true,\"zerolinewidth\":2},\"scene\":{\"xaxis\":{\"backgroundcolor\":\"#E5ECF6\",\"gridcolor\":\"white\",\"linecolor\":\"white\",\"showbackground\":true,\"ticks\":\"\",\"zerolinecolor\":\"white\",\"gridwidth\":2},\"yaxis\":{\"backgroundcolor\":\"#E5ECF6\",\"gridcolor\":\"white\",\"linecolor\":\"white\",\"showbackground\":true,\"ticks\":\"\",\"zerolinecolor\":\"white\",\"gridwidth\":2},\"zaxis\":{\"backgroundcolor\":\"#E5ECF6\",\"gridcolor\":\"white\",\"linecolor\":\"white\",\"showbackground\":true,\"ticks\":\"\",\"zerolinecolor\":\"white\",\"gridwidth\":2}},\"shapedefaults\":{\"line\":{\"color\":\"#2a3f5f\"}},\"annotationdefaults\":{\"arrowcolor\":\"#2a3f5f\",\"arrowhead\":0,\"arrowwidth\":1},\"geo\":{\"bgcolor\":\"white\",\"landcolor\":\"#E5ECF6\",\"subunitcolor\":\"white\",\"showland\":true,\"showlakes\":true,\"lakecolor\":\"white\"},\"title\":{\"x\":0.05},\"mapbox\":{\"style\":\"light\"}}},\"title\":{\"text\":\"Sitios declarados Patrimonio de la Humanidad - Argentina actualizado 2020\"},\"geo\":{\"lataxis\":{\"range\":[-57,-20]},\"lonaxis\":{\"range\":[-75,-50]},\"scope\":\"south america\",\"visible\":true,\"showcountries\":true,\"countrycolor\":\"RebeccaPurple\",\"showsubunits\":true,\"subunitcolor\":\"Blue\"},\"height\":800},                        {\"responsive\": true}                    ).then(function(){\n",
       "                            \n",
       "var gd = document.getElementById('d6431b98-e255-411a-871e-50cdd5a373b4');\n",
       "var x = new MutationObserver(function (mutations, observer) {{\n",
       "        var display = window.getComputedStyle(gd).display;\n",
       "        if (!display || display === 'none') {{\n",
       "            console.log([gd, 'removed!']);\n",
       "            Plotly.purge(gd);\n",
       "            observer.disconnect();\n",
       "        }}\n",
       "}});\n",
       "\n",
       "// Listen for the removal of the full notebook cells\n",
       "var notebookContainer = gd.closest('#notebook-container');\n",
       "if (notebookContainer) {{\n",
       "    x.observe(notebookContainer, {childList: true});\n",
       "}}\n",
       "\n",
       "// Listen for the clearing of the current output cell\n",
       "var outputEl = gd.closest('.output');\n",
       "if (outputEl) {{\n",
       "    x.observe(outputEl, {childList: true});\n",
       "}}\n",
       "\n",
       "                        })                };                });            </script>        </div>"
      ]
     },
     "metadata": {},
     "output_type": "display_data"
    }
   ],
   "source": [
    "fig.update_layout(\n",
    "    title_text = 'Sitios declarados Patrimonio de la Humanidad - Argentina actualizado 2020',\n",
    "    height=800,\n",
    "    geo = dict(\n",
    "        scope='south america',\n",
    "        lataxis_range=[-57,-20], lonaxis_range=[-75, -50],\n",
    "        visible=True,\n",
    "        showcountries=True, countrycolor=\"RebeccaPurple\",\n",
    "        showsubunits=True, subunitcolor=\"Blue\",\n",
    "    )\n",
    ")"
   ]
  },
  {
   "cell_type": "code",
   "execution_count": null,
   "metadata": {},
   "outputs": [],
   "source": []
  },
  {
   "cell_type": "code",
   "execution_count": null,
   "metadata": {},
   "outputs": [],
   "source": []
  }
 ],
 "metadata": {
  "kernelspec": {
   "display_name": "Python 3 (ipykernel)",
   "language": "python",
   "name": "python3"
  },
  "language_info": {
   "codemirror_mode": {
    "name": "ipython",
    "version": 3
   },
   "file_extension": ".py",
   "mimetype": "text/x-python",
   "name": "python",
   "nbconvert_exporter": "python",
   "pygments_lexer": "ipython3",
   "version": "3.10.2"
  }
 },
 "nbformat": 4,
 "nbformat_minor": 2
}
